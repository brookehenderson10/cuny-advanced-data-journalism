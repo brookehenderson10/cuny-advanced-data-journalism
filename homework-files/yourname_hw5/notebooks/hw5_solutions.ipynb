{
 "cells": [
  {
   "cell_type": "markdown",
   "metadata": {},
   "source": [
    "# Homework 1.5: Scraping Review 🏋️‍🏋️‍🏋️‍\n",
    "\n",
    "For this assignment, you will be scraping an API and a live website.\n",
    "\n",
    "### Table of Contents\n",
    "1. CFPB API\n",
    "2. Microworkers\n",
    "\n",
    "## Prelude: Importing Your Libraries \n",
    "The *first* first thing we're going to do is make sure we're all set up and ready to go. \n",
    "\n",
    "That means importing some libraries! I've got a cell below all ready for you to put in some libraries.\n",
    "\n",
    "Remember with third-party libraries, you will need to make sure they are actually installed before they will run. "
   ]
  },
  {
   "cell_type": "code",
   "execution_count": 1,
   "metadata": {},
   "outputs": [],
   "source": [
    "# Import native libraries\n",
    "import datetime\n",
    "import csv\n",
    "\n",
    "# Import third party libraries\n",
    "import requests\n",
    "from bs4 import BeautifulSoup"
   ]
  },
  {
   "cell_type": "markdown",
   "metadata": {},
   "source": [
    "## Part One: Scraping the CFPB\n",
    "\n",
    "The Consumer Finance and Protection Bureau was founded in the aftermath of the 2008 financial crisis. One of the things that they do is collect complaints from consumers about bad banks, lenders and other financial insitutions. This complaint data is available to the public in many forms. While you can download a big, horrible CSV file with _all_ of the data, it's usually easier (for you and your computer's memory storage) to use the API to only get the data you need.\n",
    "\n",
    "The CFPB uses [Socrata](https://www.tylertech.com/products/socrata) to manage their API, which is a company that helps a lot of public agencies share their data with the rest of the world. The way they have you request for data is kind of funky, but we will perservere together!\n",
    "\n",
    "[The homepage for the Consumer Complaint Database](https://cfpb.github.io/api/ccdb/index.html)<br>[API Reference](https://dev.socrata.com/foundry/data.consumerfinance.gov/s6ew-h6mp)"
   ]
  },
  {
   "cell_type": "markdown",
   "metadata": {},
   "source": [
    "### 1. Doing a single request\n",
    "\n",
    "#### Open the page as a JSON object with Requests"
   ]
  },
  {
   "cell_type": "code",
   "execution_count": 2,
   "metadata": {},
   "outputs": [],
   "source": [
    "cfpb_endpoint = \"https://data.consumerfinance.gov/resource/s6ew-h6mp.json\"\n",
    "page = requests.get(cfpb_endpoint)\n",
    "page_content = page.json()"
   ]
  },
  {
   "cell_type": "markdown",
   "metadata": {},
   "source": [
    "#### Print the first item in the returned list\n",
    "\n",
    "**NOTE!** Computers are weird, and they start counting with **zero** instead of **one**. To access the first value in a list, you must call `list_variable[0]`–not `list_variable[1]`!"
   ]
  },
  {
   "cell_type": "code",
   "execution_count": 3,
   "metadata": {},
   "outputs": [
    {
     "data": {
      "text/plain": [
       "{'date_received': '2019-10-18T00:00:00.000',\n",
       " 'product': 'Credit reporting, credit repair services, or other personal consumer reports',\n",
       " 'sub_product': 'Credit reporting',\n",
       " 'issue': 'Incorrect information on your report',\n",
       " 'sub_issue': 'Account status incorrect',\n",
       " 'company': 'FREEDOM FINANCIAL NETWORK',\n",
       " 'state': 'CA',\n",
       " 'zip_code': '925XX',\n",
       " 'submitted_via': 'Web',\n",
       " 'date_sent_to_company': '2019-10-18T00:00:00.000',\n",
       " 'company_response': 'In progress',\n",
       " 'timely': 'Yes',\n",
       " 'consumer_disputed': 'N/A',\n",
       " 'complaint_id': '3410006'}"
      ]
     },
     "execution_count": 3,
     "metadata": {},
     "output_type": "execute_result"
    }
   ],
   "source": [
    "page_content[0]"
   ]
  },
  {
   "cell_type": "markdown",
   "metadata": {},
   "source": [
    "Notice that there are a lot of fields!\n"
   ]
  },
  {
   "cell_type": "markdown",
   "metadata": {},
   "source": [
    "### 2. Getting a lil bit more specific\n",
    "\n",
    "When we get complaint data from just the endpoint, we are getting ALL the data–it's basically a firehose! However, we don't actually want all the complaints submitted to the CFPB! We only want specific kinds! \n",
    "\n",
    "In fact, we only want complaints that fit this criteria:\n",
    "- The consumer is based the state of New York\n",
    "- It was received by the CFPB between January 1, 2018 and January 1, 2019\n",
    "- It is about the product \"Debt collection\" and the sub-product \"Mortgage debt\"\n",
    "\n",
    "Using the `cfpb_endpoint`, we will build a url that requests just these kinds of complaints!\n",
    "\n",
    "We will first filter by each thing, and then write a url that filters all three at the same time! Woah!\n",
    "\n",
    "#### Filtering by state\n",
    "\n",
    "Look back at the piece of data we printed in Step 1. How can you tell which state the complaint is from? How are they formatting the state names–is it the full name, or an abbreviation of sort? Consider checking out the [API documentation](https://dev.socrata.com/foundry/data.consumerfinance.gov/s6ew-h6mp)'s \"Fields\" section if you're feeling a little lost."
   ]
  },
  {
   "cell_type": "code",
   "execution_count": 4,
   "metadata": {},
   "outputs": [
    {
     "data": {
      "text/plain": [
       "{'date_received': '2019-10-17T00:00:00.000',\n",
       " 'product': 'Credit reporting, credit repair services, or other personal consumer reports',\n",
       " 'sub_product': 'Credit reporting',\n",
       " 'issue': 'Incorrect information on your report',\n",
       " 'sub_issue': 'Account information incorrect',\n",
       " 'company_public_response': 'Company has responded to the consumer and the CFPB and chooses not to provide a public response',\n",
       " 'company': 'TRANSUNION INTERMEDIATE HOLDINGS, INC.',\n",
       " 'state': 'NY',\n",
       " 'zip_code': '10467',\n",
       " 'consumer_consent_provided': 'Consent not provided',\n",
       " 'submitted_via': 'Web',\n",
       " 'date_sent_to_company': '2019-10-17T00:00:00.000',\n",
       " 'company_response': 'Closed with explanation',\n",
       " 'timely': 'Yes',\n",
       " 'consumer_disputed': 'N/A',\n",
       " 'complaint_id': '3409533'}"
      ]
     },
     "execution_count": 4,
     "metadata": {},
     "output_type": "execute_result"
    }
   ],
   "source": [
    "state_filter = cfpb_endpoint + \"?state=NY\"\n",
    "page = requests.get(state_filter)\n",
    "page_content = page.json()\n",
    "page_content[0]"
   ]
  },
  {
   "cell_type": "markdown",
   "metadata": {},
   "source": [
    "#### Filtering by date range\n",
    "\n",
    "Read the [between...and...](https://dev.socrata.com/docs/functions/between.html) page in the API documentation. This will explain how to query for complaints within a particular timeframe! Now use that knowledge to call all the complaints between January 1, 2018 and January 1, 2019!"
   ]
  },
  {
   "cell_type": "code",
   "execution_count": 5,
   "metadata": {},
   "outputs": [
    {
     "data": {
      "text/plain": [
       "{'date_received': '2018-01-01T00:00:00.000',\n",
       " 'product': 'Debt collection',\n",
       " 'sub_product': 'I do not know',\n",
       " 'issue': 'Attempts to collect debt not owed',\n",
       " 'sub_issue': 'Debt is not yours',\n",
       " 'complaint_what_happened': \"I 've sent letters to Viking Client Services requesting specifics on this alleged debt. I do not have a contract with Viking or XXXX XXXX XXXX. I have not received nor made payments to either of these companies.\",\n",
       " 'company': 'Viking Client Services',\n",
       " 'state': 'TX',\n",
       " 'zip_code': '761XX',\n",
       " 'consumer_consent_provided': 'Consent provided',\n",
       " 'submitted_via': 'Web',\n",
       " 'date_sent_to_company': '2018-01-01T00:00:00.000',\n",
       " 'company_response': 'Closed with explanation',\n",
       " 'timely': 'Yes',\n",
       " 'consumer_disputed': 'N/A',\n",
       " 'complaint_id': '2768843'}"
      ]
     },
     "execution_count": 5,
     "metadata": {},
     "output_type": "execute_result"
    }
   ],
   "source": [
    "date_filter = cfpb_endpoint + \"?$where=date_received between '2018-01-01T00:00:00' and '2019-01-01T00:00:00'\"\n",
    "page = requests.get(date_filter)\n",
    "page_content = page.json()\n",
    "len(page_content)\n",
    "page_content[0]"
   ]
  },
  {
   "cell_type": "markdown",
   "metadata": {},
   "source": [
    "#### Filtering by sub-product"
   ]
  },
  {
   "cell_type": "code",
   "execution_count": 6,
   "metadata": {},
   "outputs": [
    {
     "data": {
      "text/plain": [
       "{'date_received': '2019-08-18T00:00:00.000',\n",
       " 'product': 'Debt collection',\n",
       " 'sub_product': 'Mortgage debt',\n",
       " 'issue': 'Attempts to collect debt not owed',\n",
       " 'sub_issue': 'Debt was result of identity theft',\n",
       " 'company': 'Caliber Home Loans, Inc.',\n",
       " 'state': 'MI',\n",
       " 'zip_code': '490XX',\n",
       " 'tags': 'Servicemember',\n",
       " 'consumer_consent_provided': 'Consent not provided',\n",
       " 'submitted_via': 'Web',\n",
       " 'date_sent_to_company': '2019-08-21T00:00:00.000',\n",
       " 'company_response': 'Closed with explanation',\n",
       " 'timely': 'Yes',\n",
       " 'consumer_disputed': 'N/A',\n",
       " 'complaint_id': '3345527'}"
      ]
     },
     "execution_count": 6,
     "metadata": {},
     "output_type": "execute_result"
    }
   ],
   "source": [
    "state_filter = cfpb_endpoint + \"?sub_product='Mortgage debt'\"\n",
    "page = requests.get(state_filter)\n",
    "page_content = page.json()\n",
    "page_content[0]"
   ]
  },
  {
   "cell_type": "markdown",
   "metadata": {},
   "source": [
    "#### Putting it all together\n",
    "\n",
    "Now that you've gotten data from each *individual* filter, let's combine them! You can use multiple filters by sticking an `&` between them."
   ]
  },
  {
   "cell_type": "code",
   "execution_count": 7,
   "metadata": {},
   "outputs": [
    {
     "data": {
      "text/plain": [
       "68"
      ]
     },
     "execution_count": 7,
     "metadata": {},
     "output_type": "execute_result"
    }
   ],
   "source": [
    "whole_thing = cfpb_endpoint + \"?sub_product=Mortgage debt&state=NY\" + \"&$where=date_received between '2018-01-01T00:00:00' and '2019-01-01T00:00:00'\"\n",
    "page = requests.get(whole_thing)\n",
    "page_content = page.json()\n",
    "len(page_content)"
   ]
  },
  {
   "cell_type": "markdown",
   "metadata": {},
   "source": [
    "**Gutcheck:** Count how many items you get back using the `len()` function. Is it 68? You're good to go!"
   ]
  },
  {
   "cell_type": "markdown",
   "metadata": {},
   "source": [
    "### 3. Saving the data into a CSV file\n",
    "\n",
    "Now that we have a beautifully crafted URL that gives us all the data we want, let's save it in a CSV file so we can open it up in ｡･:*:･ﾟ★,｡･:*:･ﾟ☆𝔰𝔭𝔯𝔢𝔞𝔡𝔰𝔥𝔢𝔢𝔱 𝔣𝔬𝔯𝔪｡･:*:･ﾟ★,｡･:*:･ﾟ☆.\n",
    "\n",
    "#### Save the data to a file called `\"../output/2018_NY_mortgage_complaints.csv\"`"
   ]
  },
  {
   "cell_type": "code",
   "execution_count": 8,
   "metadata": {},
   "outputs": [],
   "source": [
    "with open(\"../output/2018_NY_mortgage_complaints.csv\", \"w\") as f:\n",
    "    headers = ['date_received', 'product', 'sub_product', 'issue', 'sub_issue', 'complaint_what_happened', 'company_public_response', 'company', 'state', 'zip_code', 'consumer_consent_provided', 'submitted_via', 'date_sent_to_company', 'company_response', 'timely', 'tags', 'consumer_disputed', 'complaint_id']\n",
    "    writer = csv.DictWriter(f, headers)\n",
    "    writer.writeheader()\n",
    "    writer.writerows(page_content)\n",
    "    "
   ]
  },
  {
   "cell_type": "code",
   "execution_count": 9,
   "metadata": {},
   "outputs": [
    {
     "name": "stdout",
     "output_type": "stream",
     "text": [
      "['state', 'company', 'tags', 'company_response', 'consumer_consent_provided', 'complaint_what_happened', 'date_sent_to_company', 'issue', 'zip_code', 'complaint_id', 'submitted_via', 'consumer_disputed', 'date_received', 'company_public_response', 'sub_product', 'sub_issue', 'product', 'timely']\n"
     ]
    }
   ],
   "source": [
    "keys = set()\n",
    "for content in page_content:\n",
    "    for content_key in content.keys():\n",
    "        keys.add(content_key)\n",
    "keys = list(keys)\n",
    "print(keys)"
   ]
  },
  {
   "cell_type": "markdown",
   "metadata": {},
   "source": [
    "### Bonus: Collect mortgage complaints from multiple states!\n",
    "**For an extra point:** write a script that loops through the list of states below, downloads all complaints between January 1, 2018 and January 1, 2019 that are about the sub-product \"Mortgage debt\", and save each into their own csv, that has the filename format `../output/2018_STATENAME_mortgage_complaints.csv`"
   ]
  },
  {
   "cell_type": "code",
   "execution_count": 10,
   "metadata": {},
   "outputs": [],
   "source": [
    "states = ['NY', 'NJ', 'NV', 'ND', 'NM', 'NC']"
   ]
  },
  {
   "cell_type": "code",
   "execution_count": 11,
   "metadata": {},
   "outputs": [],
   "source": [
    "for state in states:\n",
    "    \n",
    "    whole_thing = cfpb_endpoint + \"?sub_product=Mortgage debt&state=\" + state + \"&$where=date_received between '2018-01-01T00:00:00' and '2019-01-01T00:00:00'\"\n",
    "    page = requests.get(whole_thing)\n",
    "    page_content = page.json()\n",
    "    \n",
    "    with open(\"../output/2018_\" + state + \"_mortgage_complaints.csv\", \"w\") as f:\n",
    "        headers = ['date_received', 'product', 'sub_product', 'issue', 'sub_issue', 'complaint_what_happened', 'company_public_response', 'company', 'state', 'zip_code', 'consumer_consent_provided', 'submitted_via', 'date_sent_to_company', 'company_response', 'timely', 'tags', 'consumer_disputed', 'complaint_id']\n",
    "        writer = csv.DictWriter(f, headers)\n",
    "        writer.writeheader()\n",
    "        writer.writerows(page_content)"
   ]
  },
  {
   "cell_type": "markdown",
   "metadata": {},
   "source": [
    "## Part Two: Scraping Microworkers.com\n",
    "\n",
    "For Part Two, you will be scraping an archive I've made of [Microworkers](https://www.microworkers.com/), a site that pays small amounts of money for the completion of short tasks. I have archived their \"Twitter\" job listings.\n",
    "\n",
    "You will have to:\n",
    "1. Scrape the homepage for links to each job listing\n",
    "2. Figure out how to scrape a single job listing\n",
    "3. Apply the knowledge you learned from **(2)** to each link from **(1)**\n",
    "\n",
    "The link to the archive is here:<br>\n",
    "**[http://maddy.zone/microworker/index.html](http://maddy.zone/microworker/index.html)**"
   ]
  },
  {
   "cell_type": "markdown",
   "metadata": {},
   "source": [
    "### 1. Scraping the homepage\n",
    "\n",
    "**NOTE!** This part, and the part after (scraping a single job), should give you all the code you need for the last part (scraping each job).\n",
    "\n",
    "#### Open the homepage using Requests"
   ]
  },
  {
   "cell_type": "code",
   "execution_count": 12,
   "metadata": {},
   "outputs": [],
   "source": [
    "url = \"http://maddy.zone/microworker/index.html\"\n",
    "page = requests.get(url)\n",
    "page_content = page.content\n"
   ]
  },
  {
   "cell_type": "markdown",
   "metadata": {},
   "source": [
    "#### Parse the page using BeautifulSoup"
   ]
  },
  {
   "cell_type": "code",
   "execution_count": 13,
   "metadata": {},
   "outputs": [],
   "source": [
    "soup = BeautifulSoup(page_content, \"html.parser\")\n",
    "listings = soup.find_all('div', class_='jobname')"
   ]
  },
  {
   "cell_type": "markdown",
   "metadata": {},
   "source": [
    "#### Isolate each job listing url and add them to an array"
   ]
  },
  {
   "cell_type": "code",
   "execution_count": 14,
   "metadata": {},
   "outputs": [],
   "source": [
    "links = []\n",
    "for listing in listings:\n",
    "    href = (listing.find('a',href=True))\n",
    "    if href is not None:\n",
    "        links.append(href['href'])"
   ]
  },
  {
   "cell_type": "markdown",
   "metadata": {},
   "source": [
    "### 2. Scraping a single job listing\n",
    "\n",
    "![screenshot of the linked page](example.png)\n",
    "\n",
    "For each page, we will collect **five** different pieces of information:\n",
    "1. Job title\n",
    "2. Job ID\n",
    "3. Employer ID\n",
    "4. Payment\n",
    "5. Description\n",
    "\n",
    "But scraping them all at once can be overwhelming! Let's scrape a signle listing first. For some of the pieces of information, you might want to look into `.replace()` and `.strip()` functions for strings.\n",
    "\n",
    "#### Open `http://maddy.zone/microworker/54y2h5e4j5c4z213o503w2b4.html` using Requests"
   ]
  },
  {
   "cell_type": "code",
   "execution_count": 15,
   "metadata": {},
   "outputs": [],
   "source": [
    "url = \"http://maddy.zone/microworker/54y2h5e4j5c4z213o503w2b4.html\"\n",
    "page = requests.get(url)\n",
    "page_content = page.content"
   ]
  },
  {
   "cell_type": "markdown",
   "metadata": {},
   "source": [
    "#### Parse the page using BeautifulSoup"
   ]
  },
  {
   "cell_type": "code",
   "execution_count": 16,
   "metadata": {},
   "outputs": [
    {
     "name": "stdout",
     "output_type": "stream",
     "text": [
      "<!DOCTYPE html>\n",
      "\n",
      "<html lang=\"en\">\n",
      "<head>\n",
      "<title>Microworkers - work &amp; earn or offer a micro job</title>\n",
      "<meta content=\"make money, make money at home, make money from home, make money on the internet, make extra money, make money online, make money home based business, work at home, work from home, work from home data entry, work at home jobs, work at home opportunity, work from home jobs, work at home business, work at home moms, work at home business opportunity, at home work, work online, computer work at home, online jobs work from home, work at home mom, work from home business opportunity, legitimate work at home jobs, temporary jobs, online temporary jobs, temporary job search, earn money from home, earn money at home, earn money online.\" name=\"keywords\"/>\n",
      "<meta content=\"The online market place for work. We give businesses and developers access to an on-demand scalable workforce. Workers can work at home and make money by choosing from thousands of tasks and jobs.\" name=\"description\"/>\n",
      "<meta content=\"index, follow\" name=\"robots\"/>\n",
      "<meta content=\"width=device-width, initial-scale=1.0, maximum-scale=1.0, user-scalable=no\" name=\"viewport\"/>\n",
      "<meta content=\"Microworkers\" name=\"author\"/>\n",
      "<meta content=\"Microworkers\" name=\"generator\"/>\n",
      "<meta content=\"Microworkers - work &amp; earn or offer a micro job\" property=\"og:site_name\"/>\n",
      "<meta content=\"The online market place for work. We give businesses and developers access to an on-demand scalable workforce. Workers can work at home and make money by choosing from thousands of tasks and jobs.\" property=\"og:description\"/>\n",
      "<meta content=\"text/html; charset=utf-8\" http-equiv=\"Content-Type\"/>\n",
      "<meta charset=\"utf-8\"/>\n",
      "<link href=\"css/style.css?v24\" rel=\"stylesheet\" type=\"text/css\"/>\n",
      "<link href=\"css/responsive.css?v24\" rel=\"stylesheet\" type=\"text/css\"/>\n",
      "<script src=\"js/jquery.min.js?v24\" type=\"text/javascript\"></script>\n",
      "<script src=\"/js/clipboard.min.js?v24\" type=\"text/javascript\"></script>\n",
      "<!--[if lt IE 9]> <script src=\"https://html5shiv.googlecode.com/svn/trunk/html5.js\"></script> <![endif]-->\n",
      "<link href=\"/favicon.ico?v24\" rel=\"icon\" type=\"image/x-icon\"/>\n",
      "<script type=\"text/javascript\">\n",
      "                jQuery(document).ready(function() {\n",
      "                    jQuery('.toggle').click(function() {\n",
      "                        if (jQuery('.responsivemenu').is(\":hidden\")) {\n",
      "                            jQuery('.responsivemenu').slideDown(\"fast\");\n",
      "                        } else {\n",
      "                            jQuery('.responsivemenu').slideUp(\"fast\");\n",
      "                        }\n",
      "                        return false;\n",
      "                    });\n",
      "                });\n",
      "            </script>\n",
      "</head>\n",
      "<body>\n",
      "<div class=\"wrap\">\n",
      "<div class=\"outer\">\n",
      "<header class=\"header\">\n",
      "<div class=\"headertop\">\n",
      "<div class=\"headertopleft\">\n",
      "<div class=\"logo\">\n",
      "<a href=\"/\"><img alt=\"Microworkers - work &amp; earn or offer a micro job\" src=\"img/mw-logo-2013.gif?v24\" title=\"Microworkers - work &amp; earn or offer a micro job\"/></a>\n",
      "</div>\n",
      "</div>\n",
      "<div class=\"headertopright\">\n",
      "<p>\n",
      "<a href=\"https://www.microworkers.com/blog\">Blog</a>\n",
      "                                    -\n",
      "                                    <a href=\"https://ttv.microworkers.com/template\">Template</a>\n",
      "                                    -\n",
      "                                    <a href=\"/success_rate.php\">Success rate</a>\n",
      "                                    -\n",
      "                                    <a href=\"/badges.php\">Reputation</a>\n",
      "                                    -\n",
      "                                    <a href=\"/support.php\">Support</a>\n",
      "</p>\n",
      "</div>\n",
      "</div>\n",
      "<nav class=\"menu\">\n",
      "<ul>\n",
      "<li class=\"selected\">\n",
      "<a href=\"/jobs.php\">Jobs</a>\n",
      "</li>\n",
      "<li>\n",
      "<a href=\"/hm_jobs.php\">HG Jobs\n",
      "                                    </a>\n",
      "</li>\n",
      "<li>\n",
      "<a href=\"/worker_start.php\">Tasks I finished</a>\n",
      "</li>\n",
      "<li>\n",
      "<a href=\"/employer_start.php\">My Campaigns</a>\n",
      "</li>\n",
      "<li>\n",
      "<a href=\"/deposit.php\">Deposit</a>\n",
      "</li>\n",
      "<li>\n",
      "<a href=\"/withdraw.php\">Withdraw</a>\n",
      "</li>\n",
      "<li>\n",
      "<a href=\"/account.php\">Account</a>\n",
      "</li>\n",
      "</ul>\n",
      "</nav>\n",
      "<div class=\"responsivenav\">\n",
      "<h2>Menu</h2>\n",
      "<div class=\"menuicon\">\n",
      "<span>\n",
      "<a class=\"toggle\">Menu</a>\n",
      "</span>\n",
      "</div>\n",
      "</div>\n",
      "<div class=\"responsivemenu\" style=\"display:none;\">\n",
      "<ul>\n",
      "<li class=\"selected\">\n",
      "<a href=\"/jobs.php\">Jobs</a>\n",
      "</li>\n",
      "<li>\n",
      "<a href=\"/hm_jobs.php\">HG Jobs\n",
      "                                    </a>\n",
      "</li>\n",
      "<li>\n",
      "<a href=\"/worker_start.php\">Tasks I finished</a>\n",
      "</li>\n",
      "<li>\n",
      "<a href=\"/employer_start.php\">My Campaigns</a>\n",
      "</li>\n",
      "<li>\n",
      "<a href=\"/deposit.php\">Deposit</a>\n",
      "</li>\n",
      "<li>\n",
      "<a href=\"/withdraw.php\">Withdraw</a>\n",
      "</li>\n",
      "<li>\n",
      "<a href=\"/account.php\">Account</a>\n",
      "</li>\n",
      "<li>\n",
      "<a href=\"https://ttv.microworkers.com/home\">TTV feature:</a>\n",
      "</li>\n",
      "<li>\n",
      "<ul>\n",
      "<li>\n",
      "<a href=\"https://ttv.microworkers.com/home\">Introduction</a>\n",
      "</li>\n",
      "<li>\n",
      "<a href=\"https://ttv.microworkers.com/newcampaign\">Create TTV Campaign</a>\n",
      "</li>\n",
      "<li>\n",
      "<a href=\"https://ttv.microworkers.com/mycampaign\">My TTV Campaigns</a>\n",
      "</li>\n",
      "<li>\n",
      "<a href=\"https://ttv.microworkers.com/template\">My Templates</a>\n",
      "</li>\n",
      "<li>\n",
      "<a href=\"//ttv.microworkers.com/employer/documentation/api\">API <img src=\"img/new900.gif?v24\"/></a>\n",
      "</li>\n",
      "<li>\n",
      "<a href=\"/hm_pool.php\">Best Workers</a>\n",
      "</li>\n",
      "</ul>\n",
      "</li>\n",
      "</ul>\n",
      "</div>\n",
      "</header>\n",
      "<div class=\"employeestatus\">\n",
      "<div class=\"clo01\">\n",
      "<p>\n",
      "<strong>Madeleine Varner</strong>\n",
      "                                 \n",
      "                                <span>[5b341e32]\n",
      "                                    <sup>us</sup>\n",
      "</span>\n",
      "</p>\n",
      "<p>\n",
      "<strong>$0.00000</strong>\n",
      "<span>on account</span>\n",
      "</p>\n",
      "</div>\n",
      "<div class=\"clo01\">\n",
      "<p>\n",
      "<strong>\n",
      "<a href=\"/userinfo.php?Id=5b341e32\">Member_8069511686</a>\n",
      "</strong>\n",
      "<span>\n",
      "<sup>Username</sup>\n",
      "</span>\n",
      "<a href=\"/account_nickname_change.php\">\n",
      "                                        Change\n",
      "                                    </a>\n",
      "</p>\n",
      "<p>\n",
      "<span><a class=\"__cf_email__\" data-cfemail=\"0e636f6a6a77786f7c606b7c4e69636f6762206d6163\" href=\"/cdn-cgi/l/email-protection\">[email protected]</a></span>\n",
      "</p>\n",
      "</div>\n",
      "<div class=\"logout\">\n",
      "<a href=\"/logout.php\"><img alt=\"\" src=\"img/logout79.gif?v24\" title=\"\"/></a>\n",
      "</div>\n",
      "</div>\n",
      "<nav class=\"sub-menu\">\n",
      "<ul>\n",
      "<li class=\"menu-nolink\">TTV feature:</li>\n",
      "<li>\n",
      "<a href=\"https://ttv.microworkers.com/home\">Introduction</a>\n",
      "</li>\n",
      "<li>\n",
      "<a href=\"https://ttv.microworkers.com/newcampaign\">Create TTV Campaign</a>\n",
      "</li>\n",
      "<li>\n",
      "<a href=\"https://ttv.microworkers.com/mycampaign\">My TTV Campaigns</a>\n",
      "</li>\n",
      "<li>\n",
      "<a href=\"https://ttv.microworkers.com/template\">My Templates</a>\n",
      "</li>\n",
      "<li>\n",
      "<a href=\"//ttv.microworkers.com/employer/documentation/api\">API <img src=\"img/new900.gif?v24\"/></a>\n",
      "</li>\n",
      "<li>\n",
      "<a href=\"/hm_pool.php\">Best Workers</a>\n",
      "</li>\n",
      "</ul>\n",
      "</nav>\n",
      "<div class=\"pagetitle\">\n",
      "<h2>\n",
      "<a href=\"/jobs.php\">Available jobs</a>\n",
      "  : Job details                    </h2>\n",
      "</div>\n",
      "<div class=\"maincontent\">\n",
      "<script data-cfasync=\"false\" src=\"/cdn-cgi/scripts/5c5dd728/cloudflare-static/email-decode.min.js\"></script><script language=\"JavaScript\">\n",
      "    function show5() {\n",
      "      $('#jobdetailsbox').show();\n",
      "    }\n",
      "\n",
      "    String.prototype.trim = function() {\n",
      "      return this.replace(/^\\s+|\\s+$/g, \"\");\n",
      "    };\n",
      "\n",
      "    function requiredFieldsSet() {\n",
      "      var proof = document.getElementsByName(\"Required_proof\")[0].value.trim();\n",
      "      var fileProof = \"0\";\n",
      "      if (fileProof == \"2\" && document.getElementsByName(\"Proof_file\")[0].value == \"\") {\n",
      "        alert('Proof file is required');\n",
      "        return false;\n",
      "      } else if (fileProof != \"2\" && proof == \"\") {\n",
      "        alert('Proof is required');\n",
      "        return false;\n",
      "      }\n",
      "\n",
      "      return true;\n",
      "    }\n",
      "\n",
      "      </script>\n",
      "<div class=\"jobarea\">\n",
      "<div class=\"jobarealeft\">\n",
      "<h1>DE Shaw Twitter: Follow + Retweet</h1>\n",
      "<div class=\"jobdetailsnote\">\n",
      "<div class=\"jobdetailsnoteleft\">\n",
      "<p>Work done:\n",
      "            <strong>123/<sup>175</sup>\n",
      "</strong>\n",
      "</p>\n",
      "<p>You will earn\n",
      "            <strong>$0.75</strong>\n",
      "</p>\n",
      "<p>Task takes less than\n",
      "            <strong>1</strong>\n",
      "            min to finish</p>\n",
      "<p>Job ID:\n",
      "            b1befe34f477</p>\n",
      "</div>\n",
      "<div class=\"jobdetailsnoteright\">\n",
      "<p>Employer:\n",
      "            <a href=\"/userinfo.php?Id=16f0cd16\">Member_1014973</a>\n",
      "</p>\n",
      "<p>\n",
      "<a href=\"/add_to_list.php?Id=16f0cd16&amp;Color=black&amp;Type=basic&amp;Jobs=1&amp;Owner=worker\" title=\"Remove this Employers' campaigns from your Available jobs list. If you choose to view this Employer's campaigns at a later time, you may still do so by selecting the &quot;Only Exclude List&quot; from your Jobs Page.\">add to\n",
      "                <span>Exclude List</span>\n",
      "</a>\n",
      "</p>\n",
      "<p>\n",
      "<a href=\"/add_to_list.php?Id=16f0cd16&amp;Color=white&amp;Type=basic&amp;Jobs=1&amp;Owner=worker\" title='Campaigns from this Employer will be listed in your Available Jobs. To view campaigns only from Include List, select the \"Include List\" from your Available jobs page.'>add to\n",
      "                <span>Include List</span>\n",
      "</a>\n",
      "</p>\n",
      "<p>Tasks will be rated within\n",
      "            <span class=\"highlight\"><strong>7</strong></span> days          </p>\n",
      "</div>\n",
      "</div>\n",
      "<div class=\"countrychoise\">\n",
      "<p>You can accept this job if you are from any of these countries:</p>\n",
      "<p>\n",
      "<img src=\"img/us.gif?v24\">\n",
      "\n",
      "                                                      United States\n",
      "                                            </img></p>\n",
      "</div>\n",
      "<p>\n",
      "<b>Twitter\n",
      "          <img src=\"img/arrow-transp-right.gif?v24\"/>\n",
      "</b>Follow + Post (100+ Followers)</p>\n",
      "<div class=\"jobdetailsbox\">\n",
      "<p>\n",
      "<strong>\n",
      "<span><img src=\"img/icon01.png?v24\"/></span>\n",
      "            What is expected from Workers?</strong>\n",
      "</p>\n",
      "<p>1. Go to this link - https://twitter.com/DEShawInsider/status/1176597146776289281<br/>\n",
      "2. Follow this account on Twitter<br/>\n",
      "3. Retweet this recent post<br/>\n",
      "4. Take a screenshot of the repost</p>\n",
      "<p>\n",
      "<strong>\n",
      "<span><img src=\"img/icon02.png?v24\"/></span>\n",
      "            Required proof that task was finished?</strong>\n",
      "</p>\n",
      "<p>1. Take a screenshot of the repost\n",
      "                  </p>\n",
      "</div>\n",
      "<p>\n",
      "<strong>Please select</strong>\n",
      "</p>\n",
      "<p>— <a href=\"/jobs_hide_show.php?Action=H&amp;Id=b1befe34f477&amp;Redirect_to_jobs=1\">Not interested in this job</a>\n",
      "</p>\n",
      "<p>— <a onclick=\"show5(); return false;\" style=\"cursor:pointer\">I accept this job (a form will open below)</a>\n",
      "</p>\n",
      "<div class=\"jobdetailsbox wordwrap\" id=\"jobdetailsbox\" style=\"display:none\">\n",
      "<h4>Success rate is important</h4>\n",
      "<p>Accepting a job and submitting a false proof will result in Not-Satisfied rating.<br/>If your\n",
      "            <a href=\"/success_rate.php\">Success rate</a>\n",
      "            goes below\n",
      "            <b>75%</b>\n",
      "            you will not be able to submit tasks anymore.</p>\n",
      "<h2>Have you finished this job?</h2>\n",
      "<p>Enter the proof in the box below and press button.\n",
      "            <br/>\n",
      "            You must 100% fulfill requirements set by Employer.</p>\n",
      "<p>\n",
      "<strong>Enter required proof of job finished</strong>\n",
      "</p>\n",
      "<form action=\"/jobs_i_did_it.php\" enctype=\"multipart/form-data\" method=\"POST\">\n",
      "<textarea cols=\"70\" id=\"Required_proof\" name=\"Required_proof\" rows=\"12\"></textarea>\n",
      "<input name=\"B1\" onclick=\"return requiredFieldsSet();\" type=\"submit\" value=\"I confirm that I have completed this task\"/>\n",
      "<input id=\"Id\" name=\"Id\" type=\"hidden\" value=\"54y2h5e4j5c4z213o503w2b4\">\n",
      "</input></form>\n",
      "<small>Only list what is required. Do not add unnecessary comments\n",
      "            <br/>\n",
      "            (e.g, Hi, I have finished this task, etc) to prevent your proofs from being labeled as Spam.</small>\n",
      "</div>\n",
      "</div>\n",
      "<div class=\"jobarearight\">\n",
      "<div class=\"reportbox\">\n",
      "<p>Keep Microworkers clean\n",
      "          <img alt=\"\" src=\"img/report88.gif?v24\"/></p>\n",
      "<p>\n",
      "<a href=\"/jobs_report_a_problem.php?Id=b1befe34f477\">Report non-working or misleading job</a>\n",
      "</p>\n",
      "</div>\n",
      "</div>\n",
      "</div>\n",
      "</div>\n",
      "</div>\n",
      "<footer class=\"footer\">\n",
      "<p>© 2009-2019\n",
      "                    Microworkers.com, All Rights Reserved</p>\n",
      "<p>\n",
      "<a href=\"/terms.php\">Terms of use</a>\n",
      "<a href=\"/privacy.php\">Privacy Policy</a>\n",
      "<a href=\"/faq.php\">FAQ</a>\n",
      "<a href=\"/contact.php\">Contact Us</a>\n",
      "</p>\n",
      "</footer>\n",
      "</div>\n",
      "</body>\n",
      "</html>\n",
      "\n"
     ]
    }
   ],
   "source": [
    "soup = BeautifulSoup(page_content, \"html.parser\")\n",
    "print(soup)"
   ]
  },
  {
   "cell_type": "markdown",
   "metadata": {},
   "source": [
    "#### Isolate the job title"
   ]
  },
  {
   "cell_type": "code",
   "execution_count": 17,
   "metadata": {},
   "outputs": [
    {
     "name": "stdout",
     "output_type": "stream",
     "text": [
      "DE Shaw Twitter: Follow + Retweet\n"
     ]
    }
   ],
   "source": [
    "job_title = soup.find('h1').get_text()\n",
    "print(job_title)"
   ]
  },
  {
   "cell_type": "markdown",
   "metadata": {},
   "source": [
    "#### Isolate the job id\n",
    "\n",
    "**NOTE!** Many of you did an awesome job using `.strip()` to get rid of extra whitespace at the ends of each variable. But there's so much more you can do! Check out how I used the `.replace()` function before to get rid of that weird \"Job ID:\" label. You can more about how to use it [here](https://www.geeksforgeeks.org/python-string-replace/)."
   ]
  },
  {
   "cell_type": "code",
   "execution_count": 18,
   "metadata": {},
   "outputs": [
    {
     "name": "stdout",
     "output_type": "stream",
     "text": [
      "b1befe34f477\n"
     ]
    }
   ],
   "source": [
    "job_id = soup.find('div', class_='jobdetailsnoteleft').find_all('p')[3].get_text().replace(\"Job ID:\", \"\").strip()\n",
    "print(job_id)"
   ]
  },
  {
   "cell_type": "markdown",
   "metadata": {},
   "source": [
    "#### Isolate the employer id"
   ]
  },
  {
   "cell_type": "code",
   "execution_count": 19,
   "metadata": {},
   "outputs": [
    {
     "name": "stdout",
     "output_type": "stream",
     "text": [
      "Member_1014973\n"
     ]
    }
   ],
   "source": [
    "employer_id = soup.find('div', class_=\"jobdetailsnoteright\").find('a',href=True).get_text()\n",
    "print(employer_id)"
   ]
  },
  {
   "cell_type": "markdown",
   "metadata": {},
   "source": [
    "#### Isolate the payment"
   ]
  },
  {
   "cell_type": "code",
   "execution_count": 20,
   "metadata": {},
   "outputs": [
    {
     "name": "stdout",
     "output_type": "stream",
     "text": [
      "$0.75\n"
     ]
    }
   ],
   "source": [
    "payment = soup.find('div', class_=\"jobdetailsnoteleft\").find_all('strong')[1].get_text()\n",
    "print(payment)"
   ]
  },
  {
   "cell_type": "markdown",
   "metadata": {},
   "source": [
    "#### Isolate the description"
   ]
  },
  {
   "cell_type": "code",
   "execution_count": 21,
   "metadata": {},
   "outputs": [
    {
     "name": "stdout",
     "output_type": "stream",
     "text": [
      "1. Go to this link - https://twitter.com/DEShawInsider/status/1176597146776289281\n",
      "2. Follow this account on Twitter\n",
      "3. Retweet this recent post\n",
      "4. Take a screenshot of the repost\n"
     ]
    }
   ],
   "source": [
    "description = soup.find('div', class_='jobdetailsbox').find_all('p')[1].get_text()\n",
    "print(description)"
   ]
  },
  {
   "cell_type": "markdown",
   "metadata": {},
   "source": [
    "#### Store each of your variables into this dictionary"
   ]
  },
  {
   "cell_type": "code",
   "execution_count": 22,
   "metadata": {},
   "outputs": [],
   "source": [
    "job_listing = {\n",
    "    'job_title':         job_title,\n",
    "    'job_id':            job_id,\n",
    "    'employer_id':       employer_id, \n",
    "    'payment':           payment, \n",
    "    'description':       description,\n",
    "} "
   ]
  },
  {
   "cell_type": "markdown",
   "metadata": {},
   "source": [
    "### 3. Scraping all of the linked pages\n",
    "\n",
    "#### Make an empty array for your data"
   ]
  },
  {
   "cell_type": "code",
   "execution_count": 23,
   "metadata": {},
   "outputs": [],
   "source": [
    "data = []"
   ]
  },
  {
   "cell_type": "markdown",
   "metadata": {},
   "source": [
    "#### Loop through each of the listing links that you saved in Step 1, and...<br>    Use the code from Step 2 to get the data from each listing page<br>And add the dictionary you make to the array from above\n",
    "\n",
    "**NOTE!** This step looks kind of intimidating, but if you were able to do the first and second part of the Microworkers scraper, you have everything you need to do this one!\n",
    "\n",
    "In the first part, I scraped all the urls of each job link into a list called `links`. \n",
    "\n",
    "Then, I wrote a for loop that went through each link, and then went through all the code I wrote for the single job listing! \n",
    "\n",
    "I then added the `job_listing` dict we made to a list I made called `data`. I saved that list to a csv using `DictWriter()`."
   ]
  },
  {
   "cell_type": "code",
   "execution_count": 25,
   "metadata": {},
   "outputs": [
    {
     "name": "stdout",
     "output_type": "stream",
     "text": [
      "54y2h5e4j5c4z213o503w2b4.html\n",
      "http://maddy.zone/microworker/54y2h5e4j5c4z213o503w2b4.html\n",
      "s253k5534494b4z2k54374m5.html\n",
      "http://maddy.zone/microworker/s253k5534494b4z2k54374m5.html\n",
      "s213k5339403y2d4f433q2d4.html\n",
      "http://maddy.zone/microworker/s213k5339403y2d4f433q2d4.html\n",
      "44c4a4335413x2b4b4y2v2h5.html\n",
      "http://maddy.zone/microworker/44c4a4335413x2b4b4y2v2h5.html\n",
      "545354c4a42394x264y2x294.html\n",
      "http://maddy.zone/microworker/545354c4a42394x264y2x294.html\n",
      "54y2l5a444v2233374e4p254.html\n",
      "http://maddy.zone/microworker/54y2l5a444v2233374e4p254.html\n",
      "x24364b414c413y2f423p2l5.html\n",
      "http://maddy.zone/microworker/x24364b414c413y2f423p2l5.html\n",
      "y233i543149433a494b4v274.html\n",
      "http://maddy.zone/microworker/y233i543149433a494b4v274.html\n",
      "446384x274y2y2f4a4b444a4.html\n",
      "http://maddy.zone/microworker/446384x274y2y2f4a4b444a4.html\n",
      "s253a4x214d45303k5d434d4.html\n",
      "http://maddy.zone/microworker/s253a4x214d45303k5d434d4.html\n",
      "t2c4440374x22343o5d474b4.html\n",
      "http://maddy.zone/microworker/t2c4440374x22343o5d474b4.html\n",
      "740334z2h543a443k5e464k5.html\n",
      "http://maddy.zone/microworker/740334z2h543a443k5e464k5.html\n",
      "03c4k523e5d49413m5z2v264.html\n",
      "http://maddy.zone/microworker/03c4k523e5d49413m5z2v264.html\n",
      "w20364d4249494c4m594x294.html\n",
      "http://maddy.zone/microworker/w20364d4249494c4m594x294.html\n",
      "843364z2g5z2w2d4d4x2s284.html\n",
      "http://maddy.zone/microworker/843364z2g5z2w2d4d4x2s284.html\n",
      "t2a474z2a4135343j5y234h5.html\n",
      "http://maddy.zone/microworker/t2a474z2a4135343j5y234h5.html\n",
      "w2f4i513e5x294c464y2s294.html\n",
      "http://maddy.zone/microworker/w2f4i513e5x294c464y2s294.html\n",
      "t24384x224c4y2a4a44364d4.html\n",
      "http://maddy.zone/microworker/t24384x224c4y2a4a44364d4.html\n",
      "u203j5c4g5x213d4d4d4q2h5.html\n",
      "http://maddy.zone/microworker/u203j5c4g5x213d4d4d4q2h5.html\n",
      "v2e4l553f5x29463l553r244.html\n",
      "http://maddy.zone/microworker/v2e4l553f5x29463l553r244.html\n",
      "r2z254b434z2w25364x224i5.html\n",
      "http://maddy.zone/microworker/r2z254b434z2w25364x224i5.html\n",
      "t2a45403i5w223y2k5x2t284.html\n",
      "http://maddy.zone/microworker/t2a45403i5w223y2k5x2t284.html\n",
      "u2x2c413j5x233f4n5c464h5.html\n",
      "http://maddy.zone/microworker/u2x2c413j5x233f4n5c464h5.html\n",
      "y2z284e4h533942384b4s2d4.html\n",
      "http://maddy.zone/microworker/y2z284e4h533942384b4s2d4.html\n",
      "44x294f424232363o53354b4.html\n",
      "http://maddy.zone/microworker/44x294f424232363o53354b4.html\n",
      "84e4j5b4g523c4z2c4944484.html\n",
      "http://maddy.zone/microworker/84e4j5b4g523c4z2c4944484.html\n",
      "z2z294a49423c4b4e44354k5.html\n",
      "http://maddy.zone/microworker/z2z294a49423c4b4e44354k5.html\n",
      "5413c4c4h5c4d4e4f413t254.html\n",
      "http://maddy.zone/microworker/5413c4c4h5c4d4e4f413t254.html\n",
      "r2d4c4y28413z2e4m5d4s2i5.html\n",
      "http://maddy.zone/microworker/r2d4c4y28413z2e4m5d4s2i5.html\n",
      "w25394f41423530384x2s2j5.html\n",
      "http://maddy.zone/microworker/w25394f41423530384x2s2j5.html\n",
      "7413h5x2e5y2032384433444.html\n",
      "http://maddy.zone/microworker/7413h5x2e5y2032384433444.html\n",
      "033394d4a413d4x264y2s2j5.html\n",
      "http://maddy.zone/microworker/033394d4a413d4x264y2s2j5.html\n",
      "8413j53354v2x2b4a40354a4.html\n",
      "http://maddy.zone/microworker/8413j53354v2x2b4a40354a4.html\n",
      "u233j5a43484b413m5b4u244.html\n",
      "http://maddy.zone/microworker/u233j5a43484b413m5b4u244.html\n",
      "v2x2i503h52323a4l5a4y274.html\n",
      "http://maddy.zone/microworker/v2x2i503h52323a4l5a4y274.html\n",
      "74b494f4j543b4z294y24444.html\n",
      "http://maddy.zone/microworker/74b494f4j543b4z294y24444.html\n",
      "54c4c40364d4e4z2d4x2w2h5.html\n",
      "http://maddy.zone/microworker/54c4c40364d4e4z2d4x2w2h5.html\n",
      "646354e4e5v223y2k59464b4.html\n",
      "http://maddy.zone/microworker/646354e4e5v223y2k59464b4.html\n",
      "r2x27433a41353y2c4x224m5.html\n",
      "http://maddy.zone/microworker/r2x27433a41353y2c4x224m5.html\n",
      "x213l5z224z2y2d4c43324k5.html\n",
      "http://maddy.zone/microworker/x213l5z224z2y2d4c43324k5.html\n",
      "z223j5e4i5c4w2338443v2j5.html\n",
      "http://maddy.zone/microworker/z223j5e4i5c4w2338443v2j5.html\n",
      "v23334d4e5z2b403f4c424b4.html\n",
      "http://maddy.zone/microworker/v23334d4e5z2b403f4c424b4.html\n",
      "v2f4j5z254z2y2e4b4a4w274.html\n",
      "http://maddy.zone/microworker/v2f4j5z254z2y2e4b4a4w274.html\n",
      "94d4a4y2g5a4a4a4n5d4x264.html\n",
      "http://maddy.zone/microworker/94d4a4y2g5a4a4a4n5d4x264.html\n",
      "44c434z22484z2z2a4z2y284.html\n",
      "http://maddy.zone/microworker/44c434z22484z2z2a4z2y284.html\n",
      "x2a4g533f5c413f4j503x2h5.html\n",
      "http://maddy.zone/microworker/x2a4g533f5c413f4j503x2h5.html\n",
      "z2b464137423w2z2d433p2c4.html\n",
      "http://maddy.zone/microworker/z2b464137423w2z2d433p2c4.html\n",
      "4443k5e4e533d4z2c4y2w2h5.html\n",
      "http://maddy.zone/microworker/4443k5e4e533d4z2c4y2w2h5.html\n"
     ]
    }
   ],
   "source": [
    "for link in links:\n",
    "    print(link)\n",
    "    url = \"http://maddy.zone/microworker/\" + link\n",
    "    \n",
    "    print(url)\n",
    "    page = requests.get(url)\n",
    "    page_content = page.content\n",
    "    soup = BeautifulSoup(page_content, \"html.parser\")\n",
    "        \n",
    "    job_title = soup.find('h1').get_text()\n",
    "    employer_id = soup.find('div', class_=\"jobdetailsnoteright\").find('a',href=True).get_text()\n",
    "    job_id = soup.find('div', class_='jobdetailsnoteleft').find_all('p')[3].get_text().replace(\"Job ID:\", \"\").strip()\n",
    "    payment = soup.find('div', class_=\"jobdetailsnoteleft\").find_all('strong')[1].get_text()\n",
    "    description = soup.find('div', class_='jobdetailsbox').find_all('p')[1].get_text()\n",
    "    \n",
    "    job_listing = {\n",
    "            'job_title':         job_title,\n",
    "            'job_id':            job_id,\n",
    "            'employer_id':       employer_id, \n",
    "            'payment':           payment, \n",
    "            'description':       description,\n",
    "    } \n",
    "    data.append(job_listing)"
   ]
  },
  {
   "cell_type": "markdown",
   "metadata": {},
   "source": [
    "### 4. Saving the data into a CSV file\n",
    "\n",
    "🎉 Wooo! you have all of data! \n",
    "\n",
    "#### Print each row into a spreadsheet called `\"../output/twitter_microworkers.csv\"`"
   ]
  },
  {
   "cell_type": "code",
   "execution_count": 26,
   "metadata": {},
   "outputs": [],
   "source": [
    "with open('../output/twitter_microworkers.csv', 'w') as f:\n",
    "    writer = csv.DictWriter(f, fieldnames=data[0].keys())\n",
    "    writer.writeheader()\n",
    "    writer.writerows(data)"
   ]
  },
  {
   "cell_type": "code",
   "execution_count": null,
   "metadata": {},
   "outputs": [],
   "source": []
  }
 ],
 "metadata": {
  "kernelspec": {
   "display_name": "Python 3",
   "language": "python",
   "name": "python3"
  },
  "language_info": {
   "codemirror_mode": {
    "name": "ipython",
    "version": 3
   },
   "file_extension": ".py",
   "mimetype": "text/x-python",
   "name": "python",
   "nbconvert_exporter": "python",
   "pygments_lexer": "ipython3",
   "version": "3.7.3"
  }
 },
 "nbformat": 4,
 "nbformat_minor": 2
}
