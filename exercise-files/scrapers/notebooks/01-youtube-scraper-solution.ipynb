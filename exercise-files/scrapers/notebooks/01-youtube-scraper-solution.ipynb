{
 "cells": [
  {
   "cell_type": "markdown",
   "metadata": {},
   "source": [
    "# Script for YouTube API\n",
    "\n",
    "This script scrapes data from the YouTube API and creates a `.csv` file from it. "
   ]
  },
  {
   "cell_type": "markdown",
   "metadata": {},
   "source": [
    "### Import all the libraries you need (for json reading, for csv reading, for loading URLs — we'll use requests)\n",
    "Helpful: According to Python style, the built-in libraries come first, then a line break, then any other librbaries\n",
    "\n",
    "Built into Python: `csv` — can read and write csvs | `json` — can read and write json\n",
    "\n",
    "From other developers:\n",
    "`requests` — Allows us to open websites using a URL.\n"
   ]
  },
  {
   "cell_type": "code",
   "execution_count": null,
   "metadata": {},
   "outputs": [],
   "source": [
    "import json\n",
    "import csv\n",
    "\n",
    "import requests\n",
    "\n"
   ]
  },
  {
   "cell_type": "markdown",
   "metadata": {},
   "source": [
    "### Build your API URL and store it in a variable\n",
    "Hint: make a long string with your API using concatenation"
   ]
  },
  {
   "cell_type": "code",
   "execution_count": null,
   "metadata": {},
   "outputs": [],
   "source": [
    "api_key = open('../data/youtube-api-key.txt').read().strip()\n",
    "api_url = 'https://www.googleapis.com/youtube/v3/search?key='+api_key+'&part=snippet&channelId=UCJFp8uSYCjXOMnkUyb3CQ3Q'\n"
   ]
  },
  {
   "cell_type": "markdown",
   "metadata": {},
   "source": [
    "### Open the link and tell your computer that the format it is reading is JSON\n",
    "For this we'll be using functions from the requests and json libraries (you call functions from a library by first typing out their names and then a function that is associated with them). \n"
   ]
  },
  {
   "cell_type": "code",
   "execution_count": null,
   "metadata": {},
   "outputs": [],
   "source": [
    "api_response = requests.get(api_url).text\n",
    "videos = json.loads(api_response)\n"
   ]
  },
  {
   "cell_type": "markdown",
   "metadata": {},
   "source": [
    "### Test the API URL results"
   ]
  },
  {
   "cell_type": "code",
   "execution_count": null,
   "metadata": {},
   "outputs": [],
   "source": [
    "print(requests.get(api_url).text)\n"
   ]
  },
  {
   "cell_type": "markdown",
   "metadata": {},
   "source": [
    "### Open and write a csv file, then write the first row of your spreadsheet!"
   ]
  },
  {
   "cell_type": "code",
   "execution_count": null,
   "metadata": {},
   "outputs": [],
   "source": [
    "# here's how the CSV library works: To create and upen up a csv file you need to do this:\n",
    "with open('../output/youtube_videos.csv', 'w+') as csv_file: \n",
    "    # use the csv function that we imported to write a new csv file\n",
    "    csv_writer = csv.writer(csv_file)\n",
    "    # write the first row of your CSV\n",
    "    csv_writer.writerow(['video_id', 'description', 'created_time', 'link'])\n",
    "\n",
    "\n"
   ]
  },
  {
   "cell_type": "markdown",
   "metadata": {},
   "source": [
    "### Let's write this again, but this time add the videos on the first page of results\n",
    "This all has to happen with the _scope_ of our write csv statement (indented and all)"
   ]
  },
  {
   "cell_type": "code",
   "execution_count": null,
   "metadata": {},
   "outputs": [],
   "source": [
    "# here's how the CSV library works: To create and upen up a csv file you need to do this:\n",
    "with open('../output/youtube_videos.csv', 'w+') as csv_file:\n",
    "    # use the csv function that we imported to write a new csv file\n",
    "    csv_writer = csv.writer(csv_file)\n",
    "    # write the first row of your CSV\n",
    "    csv_writer.writerow(['publishedAt','title','description','thumbnailurl'])\n",
    "    # define what kind of information from the API we want in each row\n",
    "    \n",
    "    # this is a loop, which means it takes each item in the entire json data set and cycles through it, each time print the message of the post in your console\n",
    "    for video in videos['items']:\n",
    "        print(video['snippet']['publishedAt'], video['snippet']['title'], video['snippet']['description'], video['snippet']['thumbnails']['default']['url'])\n",
    "        video_data_row  = [video['snippet']['publishedAt'], video['snippet']['title'], video['snippet']['description'], video['snippet']['thumbnails']['default']['url']]\n",
    "        csv_writer.writerow(video_data_row)\n",
    "        break\n"
   ]
  },
  {
   "cell_type": "markdown",
   "metadata": {},
   "source": [
    "### Let's write this once more, but add a few things that will handle pagination\n"
   ]
  },
  {
   "cell_type": "code",
   "execution_count": null,
   "metadata": {},
   "outputs": [],
   "source": [
    "# here's how the CSV library works: To create and upen up a csv file you need to do this:\n",
    "with open('../output/youtube_videos.csv', 'w+') as csv_file:\n",
    "    # use the csv function that we imported to write a new csv file\n",
    "    csv_writer = csv.writer(csv_file)\n",
    "    # write the first row of your CSV\n",
    "    csv_writer.writerow(['publishedAt','title','description','thumbnailurl'])\n",
    "    # define what kind of information from the API we want in each row\n",
    "    has_another_page = True\n",
    "    while has_another_page:\n",
    "        if videos.get('items')is not None:\n",
    "            for video in videos['items']:\n",
    "                video_data_row  = [ video['snippet']['publishedAt'], video['snippet']['title'], video['snippet']['description'], video['snippet']['thumbnails']['default']['url']]\n",
    "                csv_writer.writerow(video_data_row)\n",
    "        if 'nextPageToken' in videos.keys():\n",
    "            next_page_url = api_url + \"&pageToken=\" +videos['nextPageToken']\n",
    "            next_page_posts = requests.get(next_page_url)\n",
    "            videos = json.loads(next_page_posts.text)\n",
    "        else:\n",
    "            print('no more videos!')\n",
    "            has_another_page = False"
   ]
  },
  {
   "cell_type": "code",
   "execution_count": null,
   "metadata": {},
   "outputs": [],
   "source": []
  }
 ],
 "metadata": {
  "kernelspec": {
   "display_name": "Python 3",
   "language": "python",
   "name": "python3"
  },
  "language_info": {
   "codemirror_mode": {
    "name": "ipython",
    "version": 3
   },
   "file_extension": ".py",
   "mimetype": "text/x-python",
   "name": "python",
   "nbconvert_exporter": "python",
   "pygments_lexer": "ipython3",
   "version": "3.7.1"
  }
 },
 "nbformat": 4,
 "nbformat_minor": 2
}
