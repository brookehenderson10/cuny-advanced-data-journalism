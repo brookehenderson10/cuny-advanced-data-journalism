{
 "cells": [
  {
   "cell_type": "markdown",
   "metadata": {},
   "source": [
    "# Script for YouTube API\n",
    "\n",
    "This script scrapes data from the YouTube API and creates a `.csv` file from it. "
   ]
  },
  {
   "cell_type": "markdown",
   "metadata": {},
   "source": [
    "### Import all the libraries you need (for json reading, for csv reading, for loading URLs — we'll use requests)\n",
    "Helpful: According to Python style, the built-in libraries come first, then a line break, then any other librbaries\n",
    "\n",
    "Built into Python: `csv` — can read and write csvs | `json` — can read and write json\n",
    "\n",
    "From other developers:\n",
    "`requests` — Allows us to open websites using a URL.\n"
   ]
  },
  {
   "cell_type": "code",
   "execution_count": 1,
   "metadata": {},
   "outputs": [],
   "source": [
    "import json\n",
    "import csv\n",
    "\n",
    "import requests\n",
    "\n"
   ]
  },
  {
   "cell_type": "markdown",
   "metadata": {},
   "source": [
    "### Build your API URL and store it in a variable\n",
    "Hint: make a long string with your API using concatenation"
   ]
  },
  {
   "cell_type": "code",
   "execution_count": 2,
   "metadata": {},
   "outputs": [],
   "source": [
    "api_key = open('../data/youtube-api-key.txt').read().strip()\n",
    "api_url = 'https://www.googleapis.com/youtube/v3/search?key='+api_key+'&part=snippet&channelId=UCJFp8uSYCjXOMnkUyb3CQ3Q'\n"
   ]
  },
  {
   "cell_type": "markdown",
   "metadata": {},
   "source": [
    "### Open the link and tell your computer that the format it is reading is JSON\n",
    "For this we'll be using functions from the requests and json libraries (you call functions from a library by first typing out their names and then a function that is associated with them). \n"
   ]
  },
  {
   "cell_type": "code",
   "execution_count": 3,
   "metadata": {},
   "outputs": [],
   "source": [
    "api_response = requests.get(api_url).text\n",
    "videos = json.loads(api_response)\n"
   ]
  },
  {
   "cell_type": "markdown",
   "metadata": {},
   "source": [
    "### Test the API URL results"
   ]
  },
  {
   "cell_type": "code",
   "execution_count": 4,
   "metadata": {},
   "outputs": [
    {
     "name": "stdout",
     "output_type": "stream",
     "text": [
      "{\n",
      " \"kind\": \"youtube#searchListResponse\",\n",
      " \"etag\": \"\\\"8jEFfXBrqiSrcF6Ee7MQuz8XuAM/9aJPijAfW48fbv_0fCTDmCyxZp8\\\"\",\n",
      " \"nextPageToken\": \"CAUQAA\",\n",
      " \"regionCode\": \"US\",\n",
      " \"pageInfo\": {\n",
      "  \"totalResults\": 230655,\n",
      "  \"resultsPerPage\": 5\n",
      " },\n",
      " \"items\": [\n",
      "  {\n",
      "   \"kind\": \"youtube#searchResult\",\n",
      "   \"etag\": \"\\\"8jEFfXBrqiSrcF6Ee7MQuz8XuAM/SCNlZxTPnx9vUSIjSpCQpj_luO4\\\"\",\n",
      "   \"id\": {\n",
      "    \"kind\": \"youtube#video\",\n",
      "    \"videoId\": \"5Sa9nYKiYg0\"\n",
      "   },\n",
      "   \"snippet\": {\n",
      "    \"publishedAt\": \"2018-02-28T17:00:42.000Z\",\n",
      "    \"channelId\": \"UCJFp8uSYCjXOMnkUyb3CQ3Q\",\n",
      "    \"title\": \"The Original Orange Chicken by Panda Express\",\n",
      "    \"description\": \"Reserve the One Top: http://bit.ly/2v0iast Get the recipe: https://tasty.co/recipe/original-orange-chicken-by-panda-express Buy the Tasty Cookbook Today: ...\",\n",
      "    \"thumbnails\": {\n",
      "     \"default\": {\n",
      "      \"url\": \"https://i.ytimg.com/vi/5Sa9nYKiYg0/default.jpg\",\n",
      "      \"width\": 120,\n",
      "      \"height\": 90\n",
      "     },\n",
      "     \"medium\": {\n",
      "      \"url\": \"https://i.ytimg.com/vi/5Sa9nYKiYg0/mqdefault.jpg\",\n",
      "      \"width\": 320,\n",
      "      \"height\": 180\n",
      "     },\n",
      "     \"high\": {\n",
      "      \"url\": \"https://i.ytimg.com/vi/5Sa9nYKiYg0/hqdefault.jpg\",\n",
      "      \"width\": 480,\n",
      "      \"height\": 360\n",
      "     }\n",
      "    },\n",
      "    \"channelTitle\": \"Tasty\",\n",
      "    \"liveBroadcastContent\": \"none\"\n",
      "   }\n",
      "  },\n",
      "  {\n",
      "   \"kind\": \"youtube#searchResult\",\n",
      "   \"etag\": \"\\\"8jEFfXBrqiSrcF6Ee7MQuz8XuAM/CBFWKg9pIZt2cDqFOoYSqh6D_Bs\\\"\",\n",
      "   \"id\": {\n",
      "    \"kind\": \"youtube#video\",\n",
      "    \"videoId\": \"MjVgIXccYXA\"\n",
      "   },\n",
      "   \"snippet\": {\n",
      "    \"publishedAt\": \"2018-07-22T16:00:19.000Z\",\n",
      "    \"channelId\": \"UCJFp8uSYCjXOMnkUyb3CQ3Q\",\n",
      "    \"title\": \"The Most Fool-Proof Macarons You&#39;ll Ever Make\",\n",
      "    \"description\": \"https://www.buzzfeed.com/marietelling/how-to-make-macarons?utm_term=.kkgkRxLmw#.ae7RewPg4 Get the recipe! - https://tasty.co/recipe/macarons Shop the ...\",\n",
      "    \"thumbnails\": {\n",
      "     \"default\": {\n",
      "      \"url\": \"https://i.ytimg.com/vi/MjVgIXccYXA/default.jpg\",\n",
      "      \"width\": 120,\n",
      "      \"height\": 90\n",
      "     },\n",
      "     \"medium\": {\n",
      "      \"url\": \"https://i.ytimg.com/vi/MjVgIXccYXA/mqdefault.jpg\",\n",
      "      \"width\": 320,\n",
      "      \"height\": 180\n",
      "     },\n",
      "     \"high\": {\n",
      "      \"url\": \"https://i.ytimg.com/vi/MjVgIXccYXA/hqdefault.jpg\",\n",
      "      \"width\": 480,\n",
      "      \"height\": 360\n",
      "     }\n",
      "    },\n",
      "    \"channelTitle\": \"Tasty\",\n",
      "    \"liveBroadcastContent\": \"none\"\n",
      "   }\n",
      "  },\n",
      "  {\n",
      "   \"kind\": \"youtube#searchResult\",\n",
      "   \"etag\": \"\\\"8jEFfXBrqiSrcF6Ee7MQuz8XuAM/M_Y8cgSo-yIDCRoVptE_ZuYO0FA\\\"\",\n",
      "   \"id\": {\n",
      "    \"kind\": \"youtube#video\",\n",
      "    \"videoId\": \"KLGSLCaksdY\"\n",
      "   },\n",
      "   \"snippet\": {\n",
      "    \"publishedAt\": \"2016-10-27T01:00:00.000Z\",\n",
      "    \"channelId\": \"UCJFp8uSYCjXOMnkUyb3CQ3Q\",\n",
      "    \"title\": \"How To Cook With Cast Iron\",\n",
      "    \"description\": \"This guide will make cooking with cast iron a breeze! Check us out on Facebook! - facebook.com/buzzfeedtasty MUSIC Promenade En Provence Licensed via ...\",\n",
      "    \"thumbnails\": {\n",
      "     \"default\": {\n",
      "      \"url\": \"https://i.ytimg.com/vi/KLGSLCaksdY/default.jpg\",\n",
      "      \"width\": 120,\n",
      "      \"height\": 90\n",
      "     },\n",
      "     \"medium\": {\n",
      "      \"url\": \"https://i.ytimg.com/vi/KLGSLCaksdY/mqdefault.jpg\",\n",
      "      \"width\": 320,\n",
      "      \"height\": 180\n",
      "     },\n",
      "     \"high\": {\n",
      "      \"url\": \"https://i.ytimg.com/vi/KLGSLCaksdY/hqdefault.jpg\",\n",
      "      \"width\": 480,\n",
      "      \"height\": 360\n",
      "     }\n",
      "    },\n",
      "    \"channelTitle\": \"Tasty\",\n",
      "    \"liveBroadcastContent\": \"none\"\n",
      "   }\n",
      "  },\n",
      "  {\n",
      "   \"kind\": \"youtube#searchResult\",\n",
      "   \"etag\": \"\\\"8jEFfXBrqiSrcF6Ee7MQuz8XuAM/i6EOHzF7xcKsp90UuJ85ccKx9hM\\\"\",\n",
      "   \"id\": {\n",
      "    \"kind\": \"youtube#video\",\n",
      "    \"videoId\": \"B4Jlofn3qZI\"\n",
      "   },\n",
      "   \"snippet\": {\n",
      "    \"publishedAt\": \"2018-11-24T20:00:00.000Z\",\n",
      "    \"channelId\": \"UCJFp8uSYCjXOMnkUyb3CQ3Q\",\n",
      "    \"title\": \"Can This Chef Make A 3-Course Meal In A Coffee Maker?\",\n",
      "    \"description\": \"Alexis is challenged to make a delicious 3-course meal using only one tricky appliance. Follow Alexis on Instagram @alexisdeboschnek Check us out on ...\",\n",
      "    \"thumbnails\": {\n",
      "     \"default\": {\n",
      "      \"url\": \"https://i.ytimg.com/vi/B4Jlofn3qZI/default.jpg\",\n",
      "      \"width\": 120,\n",
      "      \"height\": 90\n",
      "     },\n",
      "     \"medium\": {\n",
      "      \"url\": \"https://i.ytimg.com/vi/B4Jlofn3qZI/mqdefault.jpg\",\n",
      "      \"width\": 320,\n",
      "      \"height\": 180\n",
      "     },\n",
      "     \"high\": {\n",
      "      \"url\": \"https://i.ytimg.com/vi/B4Jlofn3qZI/hqdefault.jpg\",\n",
      "      \"width\": 480,\n",
      "      \"height\": 360\n",
      "     }\n",
      "    },\n",
      "    \"channelTitle\": \"Tasty\",\n",
      "    \"liveBroadcastContent\": \"none\"\n",
      "   }\n",
      "  },\n",
      "  {\n",
      "   \"kind\": \"youtube#searchResult\",\n",
      "   \"etag\": \"\\\"8jEFfXBrqiSrcF6Ee7MQuz8XuAM/OsRgqHeccKKt6CGBkBUev29-q6o\\\"\",\n",
      "   \"id\": {\n",
      "    \"kind\": \"youtube#video\",\n",
      "    \"videoId\": \"3_Pp9fwLkBY\"\n",
      "   },\n",
      "   \"snippet\": {\n",
      "    \"publishedAt\": \"2016-05-31T18:00:00.000Z\",\n",
      "    \"channelId\": \"UCJFp8uSYCjXOMnkUyb3CQ3Q\",\n",
      "    \"title\": \"Puff Pastry 4 Ways\",\n",
      "    \"description\": \"Here is what you'll need! RECIPE: Cream Cheese Filling INGREDIENTS 1 8-ounce block cream cheese ¼ cup granulated sugar ½ teaspoon vanilla extract ...\",\n",
      "    \"thumbnails\": {\n",
      "     \"default\": {\n",
      "      \"url\": \"https://i.ytimg.com/vi/3_Pp9fwLkBY/default.jpg\",\n",
      "      \"width\": 120,\n",
      "      \"height\": 90\n",
      "     },\n",
      "     \"medium\": {\n",
      "      \"url\": \"https://i.ytimg.com/vi/3_Pp9fwLkBY/mqdefault.jpg\",\n",
      "      \"width\": 320,\n",
      "      \"height\": 180\n",
      "     },\n",
      "     \"high\": {\n",
      "      \"url\": \"https://i.ytimg.com/vi/3_Pp9fwLkBY/hqdefault.jpg\",\n",
      "      \"width\": 480,\n",
      "      \"height\": 360\n",
      "     }\n",
      "    },\n",
      "    \"channelTitle\": \"Tasty\",\n",
      "    \"liveBroadcastContent\": \"none\"\n",
      "   }\n",
      "  }\n",
      " ]\n",
      "}\n",
      "\n"
     ]
    }
   ],
   "source": [
    "print(requests.get(api_url).text)\n"
   ]
  },
  {
   "cell_type": "markdown",
   "metadata": {},
   "source": [
    "### Open and write a csv file, then write the first row of your spreadsheet!"
   ]
  },
  {
   "cell_type": "code",
   "execution_count": null,
   "metadata": {},
   "outputs": [],
   "source": [
    "# here's how the CSV library works: To create and upen up a csv file you need to do this:\n",
    "with open('../output/youtube_videos.csv', 'w+') as csv_file: \n",
    "    # use the csv function that we imported to write a new csv file\n",
    "    csv_writer = csv.writer(csv_file)\n",
    "    # write the first row of your CSV\n",
    "    csv_writer.writerow(['video_id', 'description', 'created_time', 'link'])\n",
    "\n",
    "\n"
   ]
  },
  {
   "cell_type": "markdown",
   "metadata": {},
   "source": [
    "### Let's write this again, but this time add the videos on the first page of results\n",
    "This all has to happen with the _scope_ of our write csv statement (indented and all)"
   ]
  },
  {
   "cell_type": "code",
   "execution_count": null,
   "metadata": {},
   "outputs": [],
   "source": [
    "# here's how the CSV library works: To create and upen up a csv file you need to do this:\n",
    "with open('../output/youtube_videos.csv', 'w+') as csv_file:\n",
    "    # use the csv function that we imported to write a new csv file\n",
    "    csv_writer = csv.writer(csv_file)\n",
    "    # write the first row of your CSV\n",
    "    csv_writer.writerow(['publishedAt','title','description','thumbnailurl'])\n",
    "    # define what kind of information from the API we want in each row\n",
    "    \n",
    "    # this is a loop, which means it takes each item in the entire json data set and cycles through it, each time print the message of the post in your console\n",
    "    for video in videos['items']:\n",
    "        print(video['snippet']['publishedAt'], video['snippet']['title'], video['snippet']['description'], video['snippet']['thumbnails']['default']['url'])\n",
    "        video_data_row  = [video['snippet']['publishedAt'], video['snippet']['title'], video['snippet']['description'], video['snippet']['thumbnails']['default']['url']]\n",
    "        csv_writer.writerow(video_data_row)\n",
    "        break\n"
   ]
  },
  {
   "cell_type": "markdown",
   "metadata": {},
   "source": [
    "### Let's write this once more, but add a few things that will handle pagination\n"
   ]
  },
  {
   "cell_type": "code",
   "execution_count": 5,
   "metadata": {},
   "outputs": [
    {
     "name": "stdout",
     "output_type": "stream",
     "text": [
      "no more videos!\n"
     ]
    }
   ],
   "source": [
    "# here's how the CSV library works: To create and upen up a csv file you need to do this:\n",
    "with open('../output/youtube_videos.csv', 'w+') as csv_file:\n",
    "    # use the csv function that we imported to write a new csv file\n",
    "    csv_writer = csv.writer(csv_file)\n",
    "    # write the first row of your CSV\n",
    "    csv_writer.writerow(['publishedAt','title','description','thumbnailurl'])\n",
    "    # define what kind of information from the API we want in each row\n",
    "    has_another_page = True\n",
    "    while has_another_page:\n",
    "        if videos.get('items')is not None:\n",
    "            for video in videos['items']:\n",
    "                video_data_row  = [ video['snippet']['publishedAt'], video['snippet']['title'], video['snippet']['description'], video['snippet']['thumbnails']['default']['url']]\n",
    "                csv_writer.writerow(video_data_row)\n",
    "        if 'nextPageToken' in videos.keys():\n",
    "            next_page_url = api_url + \"&pageToken=\" +videos['nextPageToken']\n",
    "            next_page_posts = requests.get(next_page_url)\n",
    "            videos = json.loads(next_page_posts.text)\n",
    "        else:\n",
    "            print('no more videos!')\n",
    "            has_another_page = False"
   ]
  },
  {
   "cell_type": "code",
   "execution_count": null,
   "metadata": {},
   "outputs": [],
   "source": []
  }
 ],
 "metadata": {
  "kernelspec": {
   "display_name": "Python 3",
   "language": "python",
   "name": "python3"
  },
  "language_info": {
   "codemirror_mode": {
    "name": "ipython",
    "version": 3
   },
   "file_extension": ".py",
   "mimetype": "text/x-python",
   "name": "python",
   "nbconvert_exporter": "python",
   "pygments_lexer": "ipython3",
   "version": "3.7.1"
  }
 },
 "nbformat": 4,
 "nbformat_minor": 2
}
