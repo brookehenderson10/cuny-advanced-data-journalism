{
 "cells": [
  {
   "cell_type": "markdown",
   "metadata": {},
   "source": [
    "# Scraper for one's Facebook ads\n"
   ]
  },
  {
   "cell_type": "markdown",
   "metadata": {},
   "source": [
    "Import libraries needed:\n",
    "- `csv` for writing csv files\n",
    "- `BeautifulSoup` for parsing HTML"
   ]
  },
  {
   "cell_type": "code",
   "execution_count": 2,
   "metadata": {},
   "outputs": [],
   "source": []
  },
  {
   "cell_type": "markdown",
   "metadata": {},
   "source": [
    "- set variables for an empty array that will hold the data\n",
    "- set a variable fot the folder name you wanna scrape"
   ]
  },
  {
   "cell_type": "code",
   "execution_count": 19,
   "metadata": {},
   "outputs": [],
   "source": []
  },
  {
   "cell_type": "markdown",
   "metadata": {},
   "source": [
    "- open the file\n",
    "- parse it through beautiful soup\n",
    "- find the container\n",
    "- find each item and cycle through it\n",
    "- store the data in a dictionary"
   ]
  },
  {
   "cell_type": "code",
   "execution_count": 20,
   "metadata": {},
   "outputs": [
    {
     "name": "stdout",
     "output_type": "stream",
     "text": [
      "[{'ad_text': 'Ad text', 'timestamp': 'Jul 01, 2018 1:45am'}, {'ad_text': 'Ad text 1', 'timestamp': 'Jul 10, 2018 5:25pm'}, {'ad_text': 'Ad text 2', 'timestamp': 'Jul 13, 2018 4:59pm'}, {'ad_text': 'Ad text 3', 'timestamp': 'Jul 19, 2018 2:09pm'}, {'ad_text': 'Ad text 4', 'timestamp': 'Aug 03, 2018 2:26pm'}, {'ad_text': 'Ad text 5', 'timestamp': 'Aug 05, 2018 3:07pm'}]\n"
     ]
    }
   ],
   "source": []
  },
  {
   "cell_type": "markdown",
   "metadata": {},
   "source": [
    "- make a new csv into which we will write all the rows\n",
    "- write a header\n",
    "- write a row of data for each data row"
   ]
  },
  {
   "cell_type": "code",
   "execution_count": 23,
   "metadata": {},
   "outputs": [],
   "source": []
  }
 ],
 "metadata": {
  "kernelspec": {
   "display_name": "Python 3",
   "language": "python",
   "name": "python3"
  },
  "language_info": {
   "codemirror_mode": {
    "name": "ipython",
    "version": 3
   },
   "file_extension": ".py",
   "mimetype": "text/x-python",
   "name": "python",
   "nbconvert_exporter": "python",
   "pygments_lexer": "ipython3",
   "version": "3.7.1"
  }
 },
 "nbformat": 4,
 "nbformat_minor": 2
}
