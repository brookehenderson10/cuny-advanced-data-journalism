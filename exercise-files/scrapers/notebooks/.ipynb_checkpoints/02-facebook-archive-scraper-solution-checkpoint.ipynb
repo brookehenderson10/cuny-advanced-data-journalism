{
 "cells": [
  {
   "cell_type": "markdown",
   "metadata": {},
   "source": [
    "# Scraper for one's Facebook ads\n"
   ]
  },
  {
   "cell_type": "markdown",
   "metadata": {},
   "source": [
    "Import libraries needed:\n",
    "- `csv` for writing csv files\n",
    "- `BeautifulSoup` for parsing HTML"
   ]
  },
  {
   "cell_type": "code",
   "execution_count": null,
   "metadata": {},
   "outputs": [],
   "source": [
    "import csv\n",
    "from bs4 import BeautifulSoup"
   ]
  },
  {
   "cell_type": "markdown",
   "metadata": {},
   "source": [
    "- set variables for an empty array that will hold the data\n",
    "- set a variable fot the folder name you wanna scrape"
   ]
  },
  {
   "cell_type": "code",
   "execution_count": null,
   "metadata": {},
   "outputs": [],
   "source": [
    "# make an empty array for your data\n",
    "rows = []\n",
    "# set foldername\n",
    "foldername = 'facebook-sample'"
   ]
  },
  {
   "cell_type": "markdown",
   "metadata": {},
   "source": [
    "- open the file\n",
    "- parse it through beautiful soup\n",
    "- find the container\n",
    "- find each item and cycle through it\n",
    "- store the data in a dictionary"
   ]
  },
  {
   "cell_type": "code",
   "execution_count": null,
   "metadata": {},
   "outputs": [],
   "source": [
    "\n",
    "# open messages\n",
    "with open('../data/%s/html/ads.htm' % foldername) as page:\n",
    "    soup = BeautifulSoup(page, \"html.parser\")\n",
    "    # only grab the content that is relevant to us on the page using the class named \"contents\"\n",
    "    contents = soup.find('div', class_='contents')\n",
    "\n",
    "    # isolate all the lists of ads\n",
    "    ad_lists = contents.find_all('ul')\n",
    "    # lets loop through each list\n",
    "    for ad_list in ad_lists:\n",
    "        # for every item in this list ...\n",
    "        for item in ad_list:\n",
    "            advertiser = item.find(text=True)\n",
    "            category = ad_list.previous_sibling.get_text()\n",
    "            if item.find(\"div\", class_='meta'):\n",
    "                metadata = item.find(\"div\", class_='meta').get_text()\n",
    "            else:\n",
    "                metadata = ''\n",
    "\n",
    "            # make a data dictionary that will\n",
    "            row = { 'advertiser': advertiser,\n",
    "                    'category': category,\n",
    "                    'metadata': metadata}\n",
    "\n",
    "            rows.append(row)\n",
    "\n"
   ]
  },
  {
   "cell_type": "markdown",
   "metadata": {},
   "source": [
    "- make a new csv into which we will write all the rows\n",
    "- write a header\n",
    "- write a row of data for each data row"
   ]
  },
  {
   "cell_type": "code",
   "execution_count": null,
   "metadata": {},
   "outputs": [],
   "source": [
    "\n",
    "with open('../output/%s-all-advertisers.csv' % foldername, 'w+') as csvfile:\n",
    "    # these are the header names:\n",
    "    fieldnames = ['advertiser', 'category', 'metadata']\n",
    "    # this creates your csv\n",
    "    writer = csv.DictWriter(csvfile, fieldnames=fieldnames)\n",
    "    # this writes in the first row, which are the headers\n",
    "    writer.writeheader()\n",
    "\n",
    "    # this loops through your rows (the array you set at the beginning and have updated throughtout)\n",
    "    for row in rows:\n",
    "        # this takes each row and writes it into your csv\n",
    "        writer.writerow(row)"
   ]
  }
 ],
 "metadata": {
  "kernelspec": {
   "display_name": "Python 3",
   "language": "python",
   "name": "python3"
  },
  "language_info": {
   "codemirror_mode": {
    "name": "ipython",
    "version": 3
   },
   "file_extension": ".py",
   "mimetype": "text/x-python",
   "name": "python",
   "nbconvert_exporter": "python",
   "pygments_lexer": "ipython3",
   "version": "3.7.1"
  }
 },
 "nbformat": 4,
 "nbformat_minor": 2
}
