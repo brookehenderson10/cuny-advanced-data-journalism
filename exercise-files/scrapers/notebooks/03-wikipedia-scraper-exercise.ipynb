{
 "cells": [
  {
   "cell_type": "markdown",
   "metadata": {},
   "source": [
    "### Wikipedia scraper\n",
    "\n",
    "\n",
    "First: Import our modules or packages that we will need to scrape a website\n"
   ]
  },
  {
   "cell_type": "code",
   "execution_count": 4,
   "metadata": {},
   "outputs": [],
   "source": [
    "import csv\n",
    "import time\n",
    "\n",
    "from bs4 import BeautifulSoup\n",
    "import requests\n"
   ]
  },
  {
   "cell_type": "markdown",
   "metadata": {},
   "source": [
    "### open the web site with requests"
   ]
  },
  {
   "cell_type": "code",
   "execution_count": 11,
   "metadata": {},
   "outputs": [],
   "source": [
    "url = \"https://en.wikipedia.org/wiki/Category:Women_computer_scientists\"\n",
    "page = requests.get(url)\n",
    "page_content = page.content\n"
   ]
  },
  {
   "cell_type": "markdown",
   "metadata": {},
   "source": [
    "### parse the page through the BeautifulSoup library"
   ]
  },
  {
   "cell_type": "code",
   "execution_count": 16,
   "metadata": {},
   "outputs": [
    {
     "name": "stdout",
     "output_type": "stream",
     "text": [
      "11\n"
     ]
    }
   ],
   "source": [
    "soup = BeautifulSoup(page_content, \"html.parser\")\n",
    "container = soup.find(\"div\", class_=\"mw-category\")\n",
    "letter_containers = container.find_all(\"div\", \"mw-category-group\")\n",
    "\n",
    "print(len(letter_containers))"
   ]
  },
  {
   "cell_type": "code",
   "execution_count": 34,
   "metadata": {},
   "outputs": [],
   "source": [
    "rows = []\n",
    "for letter_container in letter_containers:\n",
    "    category = letter_container.find(\"h3\").text\n",
    "    name_list = letter_container.find_all(\"li\")\n",
    "    for name in name_list:\n",
    "        scientist = name.text\n",
    "        link  = \"https://en.wikipedia.org\" + name.find(\"a\", href=True)[\"href\"]\n",
    "        row = {\n",
    "            \"scientist\": scientist,\n",
    "            \"category\": category,\n",
    "            \"link\":link\n",
    "        }\n",
    "        \n",
    "        rows.append(row)\n",
    "\n"
   ]
  },
  {
   "cell_type": "code",
   "execution_count": 33,
   "metadata": {},
   "outputs": [],
   "source": [
    "with open(\"../output/all-computer-scientists.csv\", \"w+\") as csvfile:\n",
    "    headers = [\"scientist\", \"category\", \"link\"]\n",
    "    writer =csv.DictWriter(csvfile, fieldnames = headers)\n",
    "    writer.writeheader()\n",
    "    \n",
    "    for row in rows:\n",
    "        writer.writerow(row)"
   ]
  },
  {
   "cell_type": "markdown",
   "metadata": {},
   "source": [
    "### isolate all groupings by letter and add them to an array"
   ]
  },
  {
   "cell_type": "code",
   "execution_count": null,
   "metadata": {},
   "outputs": [],
   "source": []
  },
  {
   "cell_type": "markdown",
   "metadata": {},
   "source": [
    "### loop through the groupings and store them as a dictionary"
   ]
  },
  {
   "cell_type": "code",
   "execution_count": null,
   "metadata": {},
   "outputs": [],
   "source": []
  },
  {
   "cell_type": "markdown",
   "metadata": {},
   "source": [
    "### print each row into a spreadsheet"
   ]
  },
  {
   "cell_type": "code",
   "execution_count": null,
   "metadata": {},
   "outputs": [],
   "source": []
  },
  {
   "cell_type": "markdown",
   "metadata": {},
   "source": [
    "## Alternative scraper — Making parts of the scripts reuseable, more responsible\n",
    "\n",
    "- announcing who you are using `requests` headers (polite scraping!)\n",
    "- make variables that hold headers and links\n",
    "- turning repetitive steps into functions\n",
    "    - making your scraper take some time (mindful scraping without overloading the server!)"
   ]
  },
  {
   "cell_type": "code",
   "execution_count": 42,
   "metadata": {},
   "outputs": [],
   "source": [
    "rows = []    \n",
    "\n",
    "def scrape_content(url):\n",
    "    time.sleep(2)\n",
    "    page = requests.get(url)\n",
    "    page_content = page.content\n",
    "    soup = BeautifulSoup(page_content, \"html.parser\")\n",
    "    container = soup.find(\"div\", class_=\"mw-category\")\n",
    "    letter_containers = container.find_all(\"div\", \"mw-category-group\")\n",
    "\n",
    "    for letter_container in letter_containers:\n",
    "        category = letter_container.find(\"h3\").text\n",
    "        name_list = letter_container.find_all(\"li\")\n",
    "        for name in name_list:\n",
    "            scientist = name.text\n",
    "            link  = \"https://en.wikipedia.org\" + name.find(\"a\", href=True)[\"href\"]\n",
    "            row = {\n",
    "                \"scientist\": scientist,\n",
    "                \"category\": category,\n",
    "                \"link\":link\n",
    "            }\n",
    "\n",
    "            rows.append(row)\n"
   ]
  },
  {
   "cell_type": "code",
   "execution_count": 43,
   "metadata": {},
   "outputs": [],
   "source": [
    "urls = [\"https://en.wikipedia.org/wiki/Category:Women_computer_scientists\", \"https://en.wikipedia.org/w/index.php?title=Category:Women_computer_scientists&pagefrom=Keller%2C+Mary+Kenneth%0AMary+Kenneth+Keller#mw-pages\"]\n",
    "for url in urls:\n",
    "    scrape_content(url)"
   ]
  },
  {
   "cell_type": "code",
   "execution_count": 44,
   "metadata": {},
   "outputs": [
    {
     "name": "stdout",
     "output_type": "stream",
     "text": [
      "[{'scientist': 'Karen Aardal', 'category': 'A', 'link': 'https://en.wikipedia.org/wiki/Karen_Aardal'}, {'scientist': 'Janet Abbate', 'category': 'A', 'link': 'https://en.wikipedia.org/wiki/Janet_Abbate'}, {'scientist': 'Maya Ackerman', 'category': 'A', 'link': 'https://en.wikipedia.org/wiki/Maya_Ackerman'}, {'scientist': 'Sibel Adalı', 'category': 'A', 'link': 'https://en.wikipedia.org/wiki/Sibel_Adal%C4%B1'}, {'scientist': 'Tülay Adalı', 'category': 'A', 'link': 'https://en.wikipedia.org/wiki/T%C3%BClay_Adal%C4%B1'}, {'scientist': 'Sarita Adve', 'category': 'A', 'link': 'https://en.wikipedia.org/wiki/Sarita_Adve'}, {'scientist': 'Frances E. Allen', 'category': 'A', 'link': 'https://en.wikipedia.org/wiki/Frances_E._Allen'}, {'scientist': 'Sarah Allen (software developer)', 'category': 'A', 'link': 'https://en.wikipedia.org/wiki/Sarah_Allen_(software_developer)'}, {'scientist': 'Nancy M. Amato', 'category': 'A', 'link': 'https://en.wikipedia.org/wiki/Nancy_M._Amato'}, {'scientist': 'Nina Amenta', 'category': 'A', 'link': 'https://en.wikipedia.org/wiki/Nina_Amenta'}, {'scientist': 'Anima Anandkumar', 'category': 'A', 'link': 'https://en.wikipedia.org/wiki/Anima_Anandkumar'}, {'scientist': 'Dana Angluin', 'category': 'A', 'link': 'https://en.wikipedia.org/wiki/Dana_Angluin'}, {'scientist': 'Lisa Anthony', 'category': 'A', 'link': 'https://en.wikipedia.org/wiki/Lisa_Anthony'}, {'scientist': 'Annie Antón', 'category': 'A', 'link': 'https://en.wikipedia.org/wiki/Annie_Ant%C3%B3n'}, {'scientist': 'Kathleen Antonelli', 'category': 'A', 'link': 'https://en.wikipedia.org/wiki/Kathleen_Antonelli'}, {'scientist': 'Cecilia R. Aragon', 'category': 'A', 'link': 'https://en.wikipedia.org/wiki/Cecilia_R._Aragon'}, {'scientist': 'Gillian Arnold (technologist)', 'category': 'A', 'link': 'https://en.wikipedia.org/wiki/Gillian_Arnold_(technologist)'}, {'scientist': 'Winifred Asprey', 'category': 'A', 'link': 'https://en.wikipedia.org/wiki/Winifred_Asprey'}, {'scientist': 'Stella Atkins', 'category': 'A', 'link': 'https://en.wikipedia.org/wiki/Stella_Atkins'}, {'scientist': 'Terri Attwood', 'category': 'A', 'link': 'https://en.wikipedia.org/wiki/Terri_Attwood'}, {'scientist': 'Donna Auguste', 'category': 'A', 'link': 'https://en.wikipedia.org/wiki/Donna_Auguste'}, {'scientist': 'Henriette Avram', 'category': 'A', 'link': 'https://en.wikipedia.org/wiki/Henriette_Avram'}, {'scientist': 'Rebecca Bace', 'category': 'B', 'link': 'https://en.wikipedia.org/wiki/Rebecca_Bace'}, {'scientist': 'Ruzena Bajcsy', 'category': 'B', 'link': 'https://en.wikipedia.org/wiki/Ruzena_Bajcsy'}, {'scientist': 'Brenda Baker', 'category': 'B', 'link': 'https://en.wikipedia.org/wiki/Brenda_Baker'}, {'scientist': 'Judit Bar-Ilan', 'category': 'B', 'link': 'https://en.wikipedia.org/wiki/Judit_Bar-Ilan'}, {'scientist': 'Valerie Barr', 'category': 'B', 'link': 'https://en.wikipedia.org/wiki/Valerie_Barr'}, {'scientist': 'Jean Bartik', 'category': 'B', 'link': 'https://en.wikipedia.org/wiki/Jean_Bartik'}, {'scientist': 'Regina Barzilay', 'category': 'B', 'link': 'https://en.wikipedia.org/wiki/Regina_Barzilay'}, {'scientist': 'Audrey Bates (programmer)', 'category': 'B', 'link': 'https://en.wikipedia.org/wiki/Audrey_Bates_(programmer)'}, {'scientist': 'Cristina Bazgan', 'category': 'B', 'link': 'https://en.wikipedia.org/wiki/Cristina_Bazgan'}, {'scientist': 'Elizabeth Belding', 'category': 'B', 'link': 'https://en.wikipedia.org/wiki/Elizabeth_Belding'}, {'scientist': 'Danielle Belgrave', 'category': 'B', 'link': 'https://en.wikipedia.org/wiki/Danielle_Belgrave'}, {'scientist': 'Evelyn Berezin', 'category': 'B', 'link': 'https://en.wikipedia.org/wiki/Evelyn_Berezin'}, {'scientist': 'Bonnie Berger', 'category': 'B', 'link': 'https://en.wikipedia.org/wiki/Bonnie_Berger'}, {'scientist': 'Marsha Berger', 'category': 'B', 'link': 'https://en.wikipedia.org/wiki/Marsha_Berger'}, {'scientist': 'Francine Berman', 'category': 'B', 'link': 'https://en.wikipedia.org/wiki/Francine_Berman'}, {'scientist': 'Danielle Bunten Berry', 'category': 'B', 'link': 'https://en.wikipedia.org/wiki/Danielle_Bunten_Berry'}, {'scientist': 'Kim Binsted', 'category': 'B', 'link': 'https://en.wikipedia.org/wiki/Kim_Binsted'}, {'scientist': 'Rachel Binx', 'category': 'B', 'link': 'https://en.wikipedia.org/wiki/Rachel_Binx'}, {'scientist': 'Dorothy Blum', 'category': 'B', 'link': 'https://en.wikipedia.org/wiki/Dorothy_Blum'}, {'scientist': 'Lenore Blum', 'category': 'B', 'link': 'https://en.wikipedia.org/wiki/Lenore_Blum'}, {'scientist': 'Sharla Boehm', 'category': 'B', 'link': 'https://en.wikipedia.org/wiki/Sharla_Boehm'}, {'scientist': 'Gloria Gordon Bolotsky', 'category': 'B', 'link': 'https://en.wikipedia.org/wiki/Gloria_Gordon_Bolotsky'}, {'scientist': 'Alexandra Boltasseva', 'category': 'B', 'link': 'https://en.wikipedia.org/wiki/Alexandra_Boltasseva'}, {'scientist': 'Paula Bonta', 'category': 'B', 'link': 'https://en.wikipedia.org/wiki/Paula_Bonta'}, {'scientist': 'Kathleen Booth', 'category': 'B', 'link': 'https://en.wikipedia.org/wiki/Kathleen_Booth'}, {'scientist': 'Anita Borg', 'category': 'B', 'link': 'https://en.wikipedia.org/wiki/Anita_Borg'}, {'scientist': 'Lorraine Borman', 'category': 'B', 'link': 'https://en.wikipedia.org/wiki/Lorraine_Borman'}, {'scientist': 'Katie Bouman', 'category': 'B', 'link': 'https://en.wikipedia.org/wiki/Katie_Bouman'}, {'scientist': 'Ivona Brandić', 'category': 'B', 'link': 'https://en.wikipedia.org/wiki/Ivona_Brandi%C4%87'}, {'scientist': 'Johanna Brewer', 'category': 'B', 'link': 'https://en.wikipedia.org/wiki/Johanna_Brewer'}, {'scientist': 'Carla Brodley', 'category': 'B', 'link': 'https://en.wikipedia.org/wiki/Carla_Brodley'}, {'scientist': 'Maxine D. Brown', 'category': 'B', 'link': 'https://en.wikipedia.org/wiki/Maxine_D._Brown'}, {'scientist': 'A. J. Bernheim Brush', 'category': 'B', 'link': 'https://en.wikipedia.org/wiki/A._J._Bernheim_Brush'}, {'scientist': 'Renée Bryce', 'category': 'B', 'link': 'https://en.wikipedia.org/wiki/Ren%C3%A9e_Bryce'}, {'scientist': 'Joanna Bryson', 'category': 'B', 'link': 'https://en.wikipedia.org/wiki/Joanna_Bryson'}, {'scientist': 'Joy Buolamwini', 'category': 'B', 'link': 'https://en.wikipedia.org/wiki/Joy_Buolamwini'}, {'scientist': 'Margaret Burnett', 'category': 'B', 'link': 'https://en.wikipedia.org/wiki/Margaret_Burnett'}, {'scientist': 'Margaret K. Butler', 'category': 'B', 'link': 'https://en.wikipedia.org/wiki/Margaret_K._Butler'}, {'scientist': 'Sheeri Cabral', 'category': 'C', 'link': 'https://en.wikipedia.org/wiki/Sheeri_Cabral'}, {'scientist': 'Tracy Camp', 'category': 'C', 'link': 'https://en.wikipedia.org/wiki/Tracy_Camp'}, {'scientist': 'Alessandra Carbone', 'category': 'C', 'link': 'https://en.wikipedia.org/wiki/Alessandra_Carbone'}, {'scientist': 'Shuchi Chawla', 'category': 'C', 'link': 'https://en.wikipedia.org/wiki/Shuchi_Chawla'}, {'scientist': 'Jennifer Tour Chayes', 'category': 'C', 'link': 'https://en.wikipedia.org/wiki/Jennifer_Tour_Chayes'}, {'scientist': 'Lorinda Cherry', 'category': 'C', 'link': 'https://en.wikipedia.org/wiki/Lorinda_Cherry'}, {'scientist': 'Almadena Chtchelkanova', 'category': 'C', 'link': 'https://en.wikipedia.org/wiki/Almadena_Chtchelkanova'}, {'scientist': 'Judy Clapp', 'category': 'C', 'link': 'https://en.wikipedia.org/wiki/Judy_Clapp'}, {'scientist': 'Lori A. Clarke', 'category': 'C', 'link': 'https://en.wikipedia.org/wiki/Lori_A._Clarke'}, {'scientist': 'Elaine Cohen', 'category': 'C', 'link': 'https://en.wikipedia.org/wiki/Elaine_Cohen'}, {'scientist': 'Joanne M. Cohoon', 'category': 'C', 'link': 'https://en.wikipedia.org/wiki/Joanne_M._Cohoon'}, {'scientist': 'Cristina Conati', 'category': 'C', 'link': 'https://en.wikipedia.org/wiki/Cristina_Conati'}, {'scientist': 'Lynn Conway', 'category': 'C', 'link': 'https://en.wikipedia.org/wiki/Lynn_Conway'}, {'scientist': 'Danese Cooper', 'category': 'C', 'link': 'https://en.wikipedia.org/wiki/Danese_Cooper'}, {'scientist': 'Corinna Cortes', 'category': 'C', 'link': 'https://en.wikipedia.org/wiki/Corinna_Cortes'}, {'scientist': 'Radhia Cousot', 'category': 'C', 'link': 'https://en.wikipedia.org/wiki/Radhia_Cousot'}, {'scientist': 'Kate Craig-Wood', 'category': 'C', 'link': 'https://en.wikipedia.org/wiki/Kate_Craig-Wood'}, {'scientist': 'Marian Croak', 'category': 'C', 'link': 'https://en.wikipedia.org/wiki/Marian_Croak'}, {'scientist': 'Carolina Cruz-Neira', 'category': 'C', 'link': 'https://en.wikipedia.org/wiki/Carolina_Cruz-Neira'}, {'scientist': 'Leah Culver', 'category': 'C', 'link': 'https://en.wikipedia.org/wiki/Leah_Culver'}, {'scientist': 'Janice E. Cuny', 'category': 'C', 'link': 'https://en.wikipedia.org/wiki/Janice_E._Cuny'}, {'scientist': 'Mary Czerwinski', 'category': 'C', 'link': 'https://en.wikipedia.org/wiki/Mary_Czerwinski'}, {'scientist': 'Raissa D’Souza', 'category': 'D', 'link': 'https://en.wikipedia.org/wiki/Raissa_D%E2%80%99Souza'}, {'scientist': 'Weili Dai', 'category': 'D', 'link': 'https://en.wikipedia.org/wiki/Weili_Dai'}, {'scientist': 'Nell B. Dale', 'category': 'D', 'link': 'https://en.wikipedia.org/wiki/Nell_B._Dale'}, {'scientist': 'Dana Moshkovitz', 'category': 'D', 'link': 'https://en.wikipedia.org/wiki/Dana_Moshkovitz'}, {'scientist': 'Frederica Darema', 'category': 'D', 'link': 'https://en.wikipedia.org/wiki/Frederica_Darema'}, {'scientist': 'Margaret Oakley Dayhoff', 'category': 'D', 'link': 'https://en.wikipedia.org/wiki/Margaret_Oakley_Dayhoff'}, {'scientist': 'Ruth Dayhoff', 'category': 'D', 'link': 'https://en.wikipedia.org/wiki/Ruth_Dayhoff'}, {'scientist': 'Rina Dechter', 'category': 'D', 'link': 'https://en.wikipedia.org/wiki/Rina_Dechter'}, {'scientist': 'Dorothy E. Denning', 'category': 'D', 'link': 'https://en.wikipedia.org/wiki/Dorothy_E._Denning'}, {'scientist': 'Marie desJardins', 'category': 'D', 'link': 'https://en.wikipedia.org/wiki/Marie_desJardins'}, {'scientist': 'Betelhem Dessie', 'category': 'D', 'link': 'https://en.wikipedia.org/wiki/Betelhem_Dessie'}, {'scientist': 'Karen Devine', 'category': 'D', 'link': 'https://en.wikipedia.org/wiki/Karen_Devine'}, {'scientist': 'Rose Dieng-Kuntz', 'category': 'D', 'link': 'https://en.wikipedia.org/wiki/Rose_Dieng-Kuntz'}, {'scientist': 'Virginia Dignum', 'category': 'D', 'link': 'https://en.wikipedia.org/wiki/Virginia_Dignum'}, {'scientist': 'Judith Donath', 'category': 'D', 'link': 'https://en.wikipedia.org/wiki/Judith_Donath'}, {'scientist': 'Julie Dorsey', 'category': 'D', 'link': 'https://en.wikipedia.org/wiki/Julie_Dorsey'}, {'scientist': 'Finale Doshi-Velez', 'category': 'D', 'link': 'https://en.wikipedia.org/wiki/Finale_Doshi-Velez'}, {'scientist': 'Sarah Ann Douglas', 'category': 'D', 'link': 'https://en.wikipedia.org/wiki/Sarah_Ann_Douglas'}, {'scientist': 'Allison Druin', 'category': 'D', 'link': 'https://en.wikipedia.org/wiki/Allison_Druin'}, {'scientist': 'Susan Dumais', 'category': 'D', 'link': 'https://en.wikipedia.org/wiki/Susan_Dumais'}, {'scientist': 'Sandhya Dwarkadas', 'category': 'D', 'link': 'https://en.wikipedia.org/wiki/Sandhya_Dwarkadas'}, {'scientist': 'Cynthia Dwork', 'category': 'D', 'link': 'https://en.wikipedia.org/wiki/Cynthia_Dwork'}, {'scientist': 'Annie Easley', 'category': 'E', 'link': 'https://en.wikipedia.org/wiki/Annie_Easley'}, {'scientist': 'Susan J. Eggers', 'category': 'E', 'link': 'https://en.wikipedia.org/wiki/Susan_J._Eggers'}, {'scientist': 'Tamar Eilam', 'category': 'E', 'link': 'https://en.wikipedia.org/wiki/Tamar_Eilam'}, {'scientist': 'Susan Eisenbach', 'category': 'E', 'link': 'https://en.wikipedia.org/wiki/Susan_Eisenbach'}, {'scientist': 'Alexandra Elbakyan', 'category': 'E', 'link': 'https://en.wikipedia.org/wiki/Alexandra_Elbakyan'}, {'scientist': 'Edith Elkind', 'category': 'E', 'link': 'https://en.wikipedia.org/wiki/Edith_Elkind'}, {'scientist': 'Carla Ellis', 'category': 'E', 'link': 'https://en.wikipedia.org/wiki/Carla_Ellis'}, {'scientist': 'Natalie Enright Jerger', 'category': 'E', 'link': 'https://en.wikipedia.org/wiki/Natalie_Enright_Jerger'}, {'scientist': 'Elza Erkip', 'category': 'E', 'link': 'https://en.wikipedia.org/wiki/Elza_Erkip'}, {'scientist': 'Gladys del Estal', 'category': 'E', 'link': 'https://en.wikipedia.org/wiki/Gladys_del_Estal'}, {'scientist': 'Deborah Estrin', 'category': 'E', 'link': 'https://en.wikipedia.org/wiki/Deborah_Estrin'}, {'scientist': 'Thelma Estrin', 'category': 'E', 'link': 'https://en.wikipedia.org/wiki/Thelma_Estrin'}, {'scientist': 'Joan Feigenbaum', 'category': 'F', 'link': 'https://en.wikipedia.org/wiki/Joan_Feigenbaum'}, {'scientist': 'Danielle Feinberg', 'category': 'F', 'link': 'https://en.wikipedia.org/wiki/Danielle_Feinberg'}, {'scientist': 'Michal Feldman', 'category': 'F', 'link': 'https://en.wikipedia.org/wiki/Michal_Feldman'}, {'scientist': 'Anja Feldmann', 'category': 'F', 'link': 'https://en.wikipedia.org/wiki/Anja_Feldmann'}, {'scientist': 'Mary Fernández', 'category': 'F', 'link': 'https://en.wikipedia.org/wiki/Mary_Fern%C3%A1ndez'}, {'scientist': 'Jeanne Ferrante', 'category': 'F', 'link': 'https://en.wikipedia.org/wiki/Jeanne_Ferrante'}, {'scientist': 'Ellen Fetter', 'category': 'F', 'link': 'https://en.wikipedia.org/wiki/Ellen_Fetter'}, {'scientist': 'Leah Findlater', 'category': 'F', 'link': 'https://en.wikipedia.org/wiki/Leah_Findlater'}, {'scientist': 'Kathleen Fisher', 'category': 'F', 'link': 'https://en.wikipedia.org/wiki/Kathleen_Fisher'}, {'scientist': 'Paola Flocchini', 'category': 'F', 'link': 'https://en.wikipedia.org/wiki/Paola_Flocchini'}, {'scientist': 'Sally Floyd', 'category': 'F', 'link': 'https://en.wikipedia.org/wiki/Sally_Floyd'}, {'scientist': 'Stephanie Forrest', 'category': 'F', 'link': 'https://en.wikipedia.org/wiki/Stephanie_Forrest'}, {'scientist': 'Alexandra Illmer Forsythe', 'category': 'F', 'link': 'https://en.wikipedia.org/wiki/Alexandra_Illmer_Forsythe'}, {'scientist': 'Margaret R. Fox', 'category': 'F', 'link': 'https://en.wikipedia.org/wiki/Margaret_R._Fox'}, {'scientist': 'Phyllis Fox', 'category': 'F', 'link': 'https://en.wikipedia.org/wiki/Phyllis_Fox'}, {'scientist': 'Jessica Fridrich', 'category': 'F', 'link': 'https://en.wikipedia.org/wiki/Jessica_Fridrich'}, {'scientist': 'Carol Frieze', 'category': 'F', 'link': 'https://en.wikipedia.org/wiki/Carol_Frieze'}, {'scientist': 'Ping Fu', 'category': 'F', 'link': 'https://en.wikipedia.org/wiki/Ping_Fu'}, {'scientist': 'Susan Gerhart', 'category': 'G', 'link': 'https://en.wikipedia.org/wiki/Susan_Gerhart'}, {'scientist': 'Ellen Gethner', 'category': 'G', 'link': 'https://en.wikipedia.org/wiki/Ellen_Gethner'}, {'scientist': 'Lise Getoor', 'category': 'G', 'link': 'https://en.wikipedia.org/wiki/Lise_Getoor'}, {'scientist': 'Yolanda Gil', 'category': 'G', 'link': 'https://en.wikipedia.org/wiki/Yolanda_Gil'}, {'scientist': 'Anna C. Gilbert', 'category': 'G', 'link': 'https://en.wikipedia.org/wiki/Anna_C._Gilbert'}, {'scientist': 'Mary Glackin', 'category': 'G', 'link': 'https://en.wikipedia.org/wiki/Mary_Glackin'}, {'scientist': 'Carole Goble', 'category': 'G', 'link': 'https://en.wikipedia.org/wiki/Carole_Goble'}, {'scientist': 'Jen Golbeck', 'category': 'G', 'link': 'https://en.wikipedia.org/wiki/Jen_Golbeck'}, {'scientist': 'Adele Goldberg (computer scientist)', 'category': 'G', 'link': 'https://en.wikipedia.org/wiki/Adele_Goldberg_(computer_scientist)'}, {'scientist': 'Anna Goldenberg', 'category': 'G', 'link': 'https://en.wikipedia.org/wiki/Anna_Goldenberg'}, {'scientist': 'Andrea Goldsmith (engineer)', 'category': 'G', 'link': 'https://en.wikipedia.org/wiki/Andrea_Goldsmith_(engineer)'}, {'scientist': 'Judy Goldsmith (computer scientist)', 'category': 'G', 'link': 'https://en.wikipedia.org/wiki/Judy_Goldsmith_(computer_scientist)'}, {'scientist': 'Adele Goldstine', 'category': 'G', 'link': 'https://en.wikipedia.org/wiki/Adele_Goldstine'}, {'scientist': 'Amy Ashurst Gooch', 'category': 'G', 'link': 'https://en.wikipedia.org/wiki/Amy_Ashurst_Gooch'}, {'scientist': 'Sarah Gordon', 'category': 'G', 'link': 'https://en.wikipedia.org/wiki/Sarah_Gordon'}, {'scientist': 'Susan L. Graham', 'category': 'G', 'link': 'https://en.wikipedia.org/wiki/Susan_L._Graham'}, {'scientist': 'Evelyn Boyd Granville', 'category': 'G', 'link': 'https://en.wikipedia.org/wiki/Evelyn_Boyd_Granville'}, {'scientist': 'Kristen Grauman', 'category': 'G', 'link': 'https://en.wikipedia.org/wiki/Kristen_Grauman'}, {'scientist': 'Diane Greene', 'category': 'G', 'link': 'https://en.wikipedia.org/wiki/Diane_Greene'}, {'scientist': 'Sheila Greibach', 'category': 'G', 'link': 'https://en.wikipedia.org/wiki/Sheila_Greibach'}, {'scientist': 'Irene Greif', 'category': 'G', 'link': 'https://en.wikipedia.org/wiki/Irene_Greif'}, {'scientist': 'Nancy Davis Griffeth', 'category': 'G', 'link': 'https://en.wikipedia.org/wiki/Nancy_Davis_Griffeth'}, {'scientist': 'Margaret Gurney', 'category': 'G', 'link': 'https://en.wikipedia.org/wiki/Margaret_Gurney'}, {'scientist': 'Laura M. Haas', 'category': 'H', 'link': 'https://en.wikipedia.org/wiki/Laura_M._Haas'}, {'scientist': 'Lois Haibt', 'category': 'H', 'link': 'https://en.wikipedia.org/wiki/Lois_Haibt'}, {'scientist': 'Ashawna Hailey', 'category': 'H', 'link': 'https://en.wikipedia.org/wiki/Ashawna_Hailey'}, {'scientist': 'Margaret Hamilton (software engineer)', 'category': 'H', 'link': 'https://en.wikipedia.org/wiki/Margaret_Hamilton_(software_engineer)'}, {'scientist': 'Jessica Hammer', 'category': 'H', 'link': 'https://en.wikipedia.org/wiki/Jessica_Hammer'}, {'scientist': 'Vicki L. Hanson', 'category': 'H', 'link': 'https://en.wikipedia.org/wiki/Vicki_L._Hanson'}, {'scientist': 'Mor Harchol-Balter', 'category': 'H', 'link': 'https://en.wikipedia.org/wiki/Mor_Harchol-Balter'}, {'scientist': 'Mary Jean Harrold', 'category': 'H', 'link': 'https://en.wikipedia.org/wiki/Mary_Jean_Harrold'}, {'scientist': 'Tanzima Hashem', 'category': 'H', 'link': 'https://en.wikipedia.org/wiki/Tanzima_Hashem'}, {'scientist': 'Mary K. Hawes', 'category': 'H', 'link': 'https://en.wikipedia.org/wiki/Mary_K._Hawes'}, {'scientist': 'Marlene Hazle', 'category': 'H', 'link': 'https://en.wikipedia.org/wiki/Marlene_Hazle'}, {'scientist': 'Marti Hearst', 'category': 'H', 'link': 'https://en.wikipedia.org/wiki/Marti_Hearst'}, {'scientist': 'Wendi Heinzelman', 'category': 'H', 'link': 'https://en.wikipedia.org/wiki/Wendi_Heinzelman'}, {'scientist': 'Laurie Hendren', 'category': 'H', 'link': 'https://en.wikipedia.org/wiki/Laurie_Hendren'}, {'scientist': 'Nadia Heninger', 'category': 'H', 'link': 'https://en.wikipedia.org/wiki/Nadia_Heninger'}, {'scientist': 'Starr Roxanne Hiltz', 'category': 'H', 'link': 'https://en.wikipedia.org/wiki/Starr_Roxanne_Hiltz'}, {'scientist': 'Julia Hirschberg', 'category': 'H', 'link': 'https://en.wikipedia.org/wiki/Julia_Hirschberg'}, {'scientist': 'Thea D. Hodge', 'category': 'H', 'link': 'https://en.wikipedia.org/wiki/Thea_D._Hodge'}, {'scientist': 'Jessica Hodgins', 'category': 'H', 'link': 'https://en.wikipedia.org/wiki/Jessica_Hodgins'}, {'scientist': 'Betty Holberton', 'category': 'H', 'link': 'https://en.wikipedia.org/wiki/Betty_Holberton'}, {'scientist': 'Karen Holtzblatt', 'category': 'H', 'link': 'https://en.wikipedia.org/wiki/Karen_Holtzblatt'}, {'scientist': 'Molly Holzschlag', 'category': 'H', 'link': 'https://en.wikipedia.org/wiki/Molly_Holzschlag'}, {'scientist': 'Grace Hopper', 'category': 'H', 'link': 'https://en.wikipedia.org/wiki/Grace_Hopper'}, {'scientist': 'Susan B. Horwitz', 'category': 'H', 'link': 'https://en.wikipedia.org/wiki/Susan_B._Horwitz'}, {'scientist': 'Ayanna Howard', 'category': 'H', 'link': 'https://en.wikipedia.org/wiki/Ayanna_Howard'}, {'scientist': 'Sandra Hutchins', 'category': 'H', 'link': 'https://en.wikipedia.org/wiki/Sandra_Hutchins'}, {'scientist': 'Lila Ibrahim', 'category': 'I', 'link': 'https://en.wikipedia.org/wiki/Lila_Ibrahim'}, {'scientist': 'Kori Inkpen', 'category': 'I', 'link': 'https://en.wikipedia.org/wiki/Kori_Inkpen'}, {'scientist': 'Mary Jane Irwin', 'category': 'I', 'link': 'https://en.wikipedia.org/wiki/Mary_Jane_Irwin'}, {'scientist': 'Divya Jain', 'category': 'J', 'link': 'https://en.wikipedia.org/wiki/Divya_Jain'}, {'scientist': 'Leah Jamieson', 'category': 'J', 'link': 'https://en.wikipedia.org/wiki/Leah_Jamieson'}, {'scientist': 'Brigitte Jaumard', 'category': 'J', 'link': 'https://en.wikipedia.org/wiki/Brigitte_Jaumard'}, {'scientist': 'Katherine Johnson', 'category': 'J', 'link': 'https://en.wikipedia.org/wiki/Katherine_Johnson'}, {'scientist': 'Lynne Jolitz', 'category': 'J', 'link': 'https://en.wikipedia.org/wiki/Lynne_Jolitz'}, {'scientist': 'Anita K. Jones', 'category': 'J', 'link': 'https://en.wikipedia.org/wiki/Anita_K._Jones'}, {'scientist': 'Nataša Jonoska', 'category': 'J', 'link': 'https://en.wikipedia.org/wiki/Nata%C5%A1a_Jonoska'}, {'scientist': 'Deborah Joseph', 'category': 'J', 'link': 'https://en.wikipedia.org/wiki/Deborah_Joseph'}, {'scientist': 'Leslie P. Kaelbling', 'category': 'K', 'link': 'https://en.wikipedia.org/wiki/Leslie_P._Kaelbling'}, {'scientist': 'Jennifer Kahn', 'category': 'K', 'link': 'https://en.wikipedia.org/wiki/Jennifer_Kahn'}, {'scientist': 'Yael Tauman Kalai', 'category': 'K', 'link': 'https://en.wikipedia.org/wiki/Yael_Tauman_Kalai'}, {'scientist': 'Anna Karlin', 'category': 'K', 'link': 'https://en.wikipedia.org/wiki/Anna_Karlin'}, {'scientist': 'Lydia Kavraki', 'category': 'K', 'link': 'https://en.wikipedia.org/wiki/Lydia_Kavraki'}, {'scientist': 'Kimberly Keeton', 'category': 'K', 'link': 'https://en.wikipedia.org/wiki/Kimberly_Keeton'}, {'scientist': 'Mary Kenneth Keller', 'category': 'K', 'link': 'https://en.wikipedia.org/wiki/Mary_Kenneth_Keller'}, {'scientist': 'Wendy Kellogg', 'category': 'K', 'link': 'https://en.wikipedia.org/wiki/Wendy_Kellogg'}, {'scientist': 'Martine Kempf', 'category': 'K', 'link': 'https://en.wikipedia.org/wiki/Martine_Kempf'}, {'scientist': 'Maria Klawe', 'category': 'K', 'link': 'https://en.wikipedia.org/wiki/Maria_Klawe'}, {'scientist': 'Tamara G. Kolda', 'category': 'K', 'link': 'https://en.wikipedia.org/wiki/Tamara_G._Kolda'}, {'scientist': 'Daphne Koller', 'category': 'K', 'link': 'https://en.wikipedia.org/wiki/Daphne_Koller'}, {'scientist': 'Janet L. Kolodner', 'category': 'K', 'link': 'https://en.wikipedia.org/wiki/Janet_L._Kolodner'}, {'scientist': 'Jana Košecká', 'category': 'K', 'link': 'https://en.wikipedia.org/wiki/Jana_Ko%C5%A1eck%C3%A1'}, {'scientist': 'Orna Kupferman', 'category': 'K', 'link': 'https://en.wikipedia.org/wiki/Orna_Kupferman'}, {'scientist': 'Věra Kůrková', 'category': 'K', 'link': 'https://en.wikipedia.org/wiki/V%C4%9Bra_K%C5%AFrkov%C3%A1'}, {'scientist': 'Gitta Kutyniok', 'category': 'K', 'link': 'https://en.wikipedia.org/wiki/Gitta_Kutyniok'}, {'scientist': 'Mary Lacity', 'category': 'L', 'link': 'https://en.wikipedia.org/wiki/Mary_Lacity'}, {'scientist': 'Rivka Ladin', 'category': 'L', 'link': 'https://en.wikipedia.org/wiki/Rivka_Ladin'}, {'scientist': 'Monica S. Lam', 'category': 'L', 'link': 'https://en.wikipedia.org/wiki/Monica_S._Lam'}, {'scientist': 'Susan Landau', 'category': 'L', 'link': 'https://en.wikipedia.org/wiki/Susan_Landau'}, {'scientist': 'Amy L. Lansky', 'category': 'L', 'link': 'https://en.wikipedia.org/wiki/Amy_L._Lansky'}, {'scientist': 'Mirella Lapata', 'category': 'L', 'link': 'https://en.wikipedia.org/wiki/Mirella_Lapata'}, {'scientist': 'Corinna E. Lathan', 'category': 'L', 'link': 'https://en.wikipedia.org/wiki/Corinna_E._Lathan'}, {'scientist': 'Cynthia B. Lee', 'category': 'L', 'link': 'https://en.wikipedia.org/wiki/Cynthia_B._Lee'}, {'scientist': 'Lillian Lee (computer scientist)', 'category': 'L', 'link': 'https://en.wikipedia.org/wiki/Lillian_Lee_(computer_scientist)'}, {'scientist': 'Sandy Lerner', 'category': 'L', 'link': 'https://en.wikipedia.org/wiki/Sandy_Lerner'}, {'scientist': 'Nancy Leveson', 'category': 'L', 'link': 'https://en.wikipedia.org/wiki/Nancy_Leveson'}, {'scientist': 'Jaime Levy', 'category': 'L', 'link': 'https://en.wikipedia.org/wiki/Jaime_Levy'}, {'scientist': 'Nancy Lieder', 'category': 'L', 'link': 'https://en.wikipedia.org/wiki/Nancy_Lieder'}, {'scientist': 'Katrina Ligett', 'category': 'L', 'link': 'https://en.wikipedia.org/wiki/Katrina_Ligett'}, {'scientist': 'Barbara Liskov', 'category': 'L', 'link': 'https://en.wikipedia.org/wiki/Barbara_Liskov'}, {'scientist': 'Joyce Currie Little', 'category': 'L', 'link': 'https://en.wikipedia.org/wiki/Joyce_Currie_Little'}, {'scientist': 'Kimber Lockhart', 'category': 'L', 'link': 'https://en.wikipedia.org/wiki/Kimber_Lockhart'}, {'scientist': 'Patricia D. Lopez', 'category': 'L', 'link': 'https://en.wikipedia.org/wiki/Patricia_D._Lopez'}, {'scientist': 'Janice Lourie', 'category': 'L', 'link': 'https://en.wikipedia.org/wiki/Janice_Lourie'}, {'scientist': 'Gillian Lovegrove', 'category': 'L', 'link': 'https://en.wikipedia.org/wiki/Gillian_Lovegrove'}, {'scientist': 'Nancy Lynch', 'category': 'L', 'link': 'https://en.wikipedia.org/wiki/Nancy_Lynch'}, {'scientist': 'Wendy Mackay', 'category': 'M', 'link': 'https://en.wikipedia.org/wiki/Wendy_Mackay'}, {'scientist': 'Pattie Maes', 'category': 'M', 'link': 'https://en.wikipedia.org/wiki/Pattie_Maes'}, {'scientist': 'Dahlia Malkhi', 'category': 'M', 'link': 'https://en.wikipedia.org/wiki/Dahlia_Malkhi'}, {'scientist': 'Jennifer Mankoff', 'category': 'M', 'link': 'https://en.wikipedia.org/wiki/Jennifer_Mankoff'}, {'scientist': 'Margaret Marrs', 'category': 'M', 'link': 'https://en.wikipedia.org/wiki/Margaret_Marrs'}, {'scientist': 'Brandeis Marshall', 'category': 'M', 'link': 'https://en.wikipedia.org/wiki/Brandeis_Marshall'}, {'scientist': 'C. Dianne Martin', 'category': 'M', 'link': 'https://en.wikipedia.org/wiki/C._Dianne_Martin'}, {'scientist': 'Margaret Martonosi', 'category': 'M', 'link': 'https://en.wikipedia.org/wiki/Margaret_Martonosi'}, {'scientist': 'Alexia Massalin', 'category': 'M', 'link': 'https://en.wikipedia.org/wiki/Alexia_Massalin'}, {'scientist': 'Maja Matarić', 'category': 'M', 'link': 'https://en.wikipedia.org/wiki/Maja_Matari%C4%87'}, {'scientist': 'Lori McCreary', 'category': 'M', 'link': 'https://en.wikipedia.org/wiki/Lori_McCreary'}, {'scientist': 'Catherine McGeoch', 'category': 'M', 'link': 'https://en.wikipedia.org/wiki/Catherine_McGeoch'}, {'scientist': 'Elaine M. McGraw', 'category': 'M', 'link': 'https://en.wikipedia.org/wiki/Elaine_M._McGraw'}, {'scientist': 'Joanna McGrenere', 'category': 'M', 'link': 'https://en.wikipedia.org/wiki/Joanna_McGrenere'}, {'scientist': 'Kathleen McKeown', 'category': 'M', 'link': 'https://en.wikipedia.org/wiki/Kathleen_McKeown'}, {'scientist': 'Kathryn S. McKinley', 'category': 'M', 'link': 'https://en.wikipedia.org/wiki/Kathryn_S._McKinley'}, {'scientist': 'Diana McSherry', 'category': 'M', 'link': 'https://en.wikipedia.org/wiki/Diana_McSherry'}, {'scientist': 'Catherine Meadows', 'category': 'M', 'link': 'https://en.wikipedia.org/wiki/Catherine_Meadows'}, {'scientist': 'Marlyn Meltzer', 'category': 'M', 'link': 'https://en.wikipedia.org/wiki/Marlyn_Meltzer'}, {'scientist': 'Rebecca Mercuri', 'category': 'M', 'link': 'https://en.wikipedia.org/wiki/Rebecca_Mercuri'}, {'scientist': 'Jill P. Mesirov', 'category': 'M', 'link': 'https://en.wikipedia.org/wiki/Jill_P._Mesirov'}, {'scientist': 'Miriah Meyer', 'category': 'M', 'link': 'https://en.wikipedia.org/wiki/Miriah_Meyer'}, {'scientist': 'Rada Mihalcea', 'category': 'M', 'link': 'https://en.wikipedia.org/wiki/Rada_Mihalcea'}, {'scientist': 'Jude Milhon', 'category': 'M', 'link': 'https://en.wikipedia.org/wiki/Jude_Milhon'}, {'scientist': 'Renée Miller', 'category': 'M', 'link': 'https://en.wikipedia.org/wiki/Ren%C3%A9e_Miller'}, {'scientist': 'Ruth Misener', 'category': 'M', 'link': 'https://en.wikipedia.org/wiki/Ruth_Misener'}, {'scientist': 'Joan L. Mitchell', 'category': 'M', 'link': 'https://en.wikipedia.org/wiki/Joan_L._Mitchell'}, {'scientist': 'Karyn Moffat', 'category': 'M', 'link': 'https://en.wikipedia.org/wiki/Karyn_Moffat'}, {'scientist': 'Barbara E. Moo', 'category': 'M', 'link': 'https://en.wikipedia.org/wiki/Barbara_E._Moo'}, {'scientist': 'Charlotte Davis Mooers', 'category': 'M', 'link': 'https://en.wikipedia.org/wiki/Charlotte_Davis_Mooers'}, {'scientist': 'Rebecca Moore (scientist)', 'category': 'M', 'link': 'https://en.wikipedia.org/wiki/Rebecca_Moore_(scientist)'}, {'scientist': 'Magdalena Mouján', 'category': 'M', 'link': 'https://en.wikipedia.org/wiki/Magdalena_Mouj%C3%A1n'}, {'scientist': 'Tamara Munzner', 'category': 'M', 'link': 'https://en.wikipedia.org/wiki/Tamara_Munzner'}, {'scientist': 'Dorcas Muthoni', 'category': 'M', 'link': 'https://en.wikipedia.org/wiki/Dorcas_Muthoni'}, {'scientist': 'Elizabeth Mynatt', 'category': 'M', 'link': 'https://en.wikipedia.org/wiki/Elizabeth_Mynatt'}, {'scientist': 'Wendy Myrvold', 'category': 'M', 'link': 'https://en.wikipedia.org/wiki/Wendy_Myrvold'}, {'scientist': 'Radhika Nagpal', 'category': 'N', 'link': 'https://en.wikipedia.org/wiki/Radhika_Nagpal'}, {'scientist': 'Caryn Navy', 'category': 'N', 'link': 'https://en.wikipedia.org/wiki/Caryn_Navy'}, {'scientist': 'Evi Nemeth', 'category': 'N', 'link': 'https://en.wikipedia.org/wiki/Evi_Nemeth'}, {'scientist': 'Klara Dan von Neumann', 'category': 'N', 'link': 'https://en.wikipedia.org/wiki/Klara_Dan_von_Neumann'}, {'scientist': 'Kathleen Nichols', 'category': 'N', 'link': 'https://en.wikipedia.org/wiki/Kathleen_Nichols'}, {'scientist': 'Natasha Noy', 'category': 'N', 'link': 'https://en.wikipedia.org/wiki/Natasha_Noy'}, {'scientist': \"Elizabeth O'Neil\", 'category': 'O', 'link': 'https://en.wikipedia.org/wiki/Elizabeth_O%27Neil'}, {'scientist': \"Dianne P. O'Leary\", 'category': 'O', 'link': 'https://en.wikipedia.org/wiki/Dianne_P._O%27Leary'}, {'scientist': 'Aude Oliva', 'category': 'O', 'link': 'https://en.wikipedia.org/wiki/Aude_Oliva'}, {'scientist': 'Elaine Oran', 'category': 'O', 'link': 'https://en.wikipedia.org/wiki/Elaine_Oran'}, {'scientist': 'Angela Orebaugh', 'category': 'O', 'link': 'https://en.wikipedia.org/wiki/Angela_Orebaugh'}, {'scientist': 'Rita Orji', 'category': 'O', 'link': 'https://en.wikipedia.org/wiki/Rita_Orji'}, {'scientist': 'Barbara Boucher Owens', 'category': 'O', 'link': 'https://en.wikipedia.org/wiki/Barbara_Boucher_Owens'}, {'scientist': 'Susan Owicki', 'category': 'O', 'link': 'https://en.wikipedia.org/wiki/Susan_Owicki'}, {'scientist': 'Leysia Palen', 'category': 'P', 'link': 'https://en.wikipedia.org/wiki/Leysia_Palen'}, {'scientist': 'Martha Palmer', 'category': 'P', 'link': 'https://en.wikipedia.org/wiki/Martha_Palmer'}, {'scientist': 'Cherri M. Pancake', 'category': 'P', 'link': 'https://en.wikipedia.org/wiki/Cherri_M._Pancake'}, {'scientist': 'Haesun Park', 'category': 'P', 'link': 'https://en.wikipedia.org/wiki/Haesun_Park'}, {'scientist': 'Meredith L. Patterson', 'category': 'P', 'link': 'https://en.wikipedia.org/wiki/Meredith_L._Patterson'}, {'scientist': 'Nicola Pellow', 'category': 'P', 'link': 'https://en.wikipedia.org/wiki/Nicola_Pellow'}, {'scientist': 'Radia Perlman', 'category': 'P', 'link': 'https://en.wikipedia.org/wiki/Radia_Perlman'}, {'scientist': 'Anicia Peters', 'category': 'P', 'link': 'https://en.wikipedia.org/wiki/Anicia_Peters'}, {'scientist': 'Karen Petrie', 'category': 'P', 'link': 'https://en.wikipedia.org/wiki/Karen_Petrie'}, {'scientist': 'Linda Petzold', 'category': 'P', 'link': 'https://en.wikipedia.org/wiki/Linda_Petzold'}, {'scientist': 'Cynthia A. Phillips', 'category': 'P', 'link': 'https://en.wikipedia.org/wiki/Cynthia_A._Phillips'}, {'scientist': 'Christine Piatko', 'category': 'P', 'link': 'https://en.wikipedia.org/wiki/Christine_Piatko'}, {'scientist': 'Rosalind Picard', 'category': 'P', 'link': 'https://en.wikipedia.org/wiki/Rosalind_Picard'}, {'scientist': 'Joëlle Pineau', 'category': 'P', 'link': 'https://en.wikipedia.org/wiki/Jo%C3%ABlle_Pineau'}, {'scientist': 'Nichole Pinkard', 'category': 'P', 'link': 'https://en.wikipedia.org/wiki/Nichole_Pinkard'}, {'scientist': 'Toniann Pitassi', 'category': 'P', 'link': 'https://en.wikipedia.org/wiki/Toniann_Pitassi'}, {'scientist': 'Catherine Plaisant', 'category': 'P', 'link': 'https://en.wikipedia.org/wiki/Catherine_Plaisant'}, {'scientist': 'Martha E. Pollack', 'category': 'P', 'link': 'https://en.wikipedia.org/wiki/Martha_E._Pollack'}, {'scientist': 'Lori L. Pollock', 'category': 'P', 'link': 'https://en.wikipedia.org/wiki/Lori_L._Pollock'}, {'scientist': 'Cicely Popplewell', 'category': 'P', 'link': 'https://en.wikipedia.org/wiki/Cicely_Popplewell'}, {'scientist': 'Diane Pozefsky', 'category': 'P', 'link': 'https://en.wikipedia.org/wiki/Diane_Pozefsky'}, {'scientist': 'Joanne Pransky', 'category': 'P', 'link': 'https://en.wikipedia.org/wiki/Joanne_Pransky'}, {'scientist': 'Jenny Preece', 'category': 'P', 'link': 'https://en.wikipedia.org/wiki/Jenny_Preece'}, {'scientist': 'Lili Qiu', 'category': 'Q', 'link': 'https://en.wikipedia.org/wiki/Lili_Qiu'}, {'scientist': 'Karen Rafferty', 'category': 'R', 'link': 'https://en.wikipedia.org/wiki/Karen_Rafferty'}, {'scientist': 'Allison Randal', 'category': 'R', 'link': 'https://en.wikipedia.org/wiki/Allison_Randal'}, {'scientist': 'Dana Randall', 'category': 'R', 'link': 'https://en.wikipedia.org/wiki/Dana_Randall'}, {'scientist': 'Sofya Raskhodnikova', 'category': 'R', 'link': 'https://en.wikipedia.org/wiki/Sofya_Raskhodnikova'}, {'scientist': 'Elizabeth Rather', 'category': 'R', 'link': 'https://en.wikipedia.org/wiki/Elizabeth_Rather'}, {'scientist': 'Sylvia Ratnasamy', 'category': 'R', 'link': 'https://en.wikipedia.org/wiki/Sylvia_Ratnasamy'}, {'scientist': 'Kim Rees', 'category': 'R', 'link': 'https://en.wikipedia.org/wiki/Kim_Rees'}, {'scientist': 'Jennifer Rexford', 'category': 'R', 'link': 'https://en.wikipedia.org/wiki/Jennifer_Rexford'}, {'scientist': 'Joyce K. Reynolds', 'category': 'R', 'link': 'https://en.wikipedia.org/wiki/Joyce_K._Reynolds'}, {'scientist': 'Susan H. Rodger', 'category': 'R', 'link': 'https://en.wikipedia.org/wiki/Susan_H._Rodger'}, {'scientist': 'Frances A. Rosamond', 'category': 'R', 'link': 'https://en.wikipedia.org/wiki/Frances_A._Rosamond'}, {'scientist': 'Arianna W. Rosenbluth', 'category': 'R', 'link': 'https://en.wikipedia.org/wiki/Arianna_W._Rosenbluth'}, {'scientist': 'Jeanne W. Ross', 'category': 'R', 'link': 'https://en.wikipedia.org/wiki/Jeanne_W._Ross'}, {'scientist': 'Ronitt Rubinfeld', 'category': 'R', 'link': 'https://en.wikipedia.org/wiki/Ronitt_Rubinfeld'}, {'scientist': 'Cynthia Rudin', 'category': 'R', 'link': 'https://en.wikipedia.org/wiki/Cynthia_Rudin'}, {'scientist': 'Sushmita Ruj', 'category': 'R', 'link': 'https://en.wikipedia.org/wiki/Sushmita_Ruj'}, {'scientist': 'Daniela L. Rus', 'category': 'R', 'link': 'https://en.wikipedia.org/wiki/Daniela_L._Rus'}, {'scientist': 'Holly Rushmeier', 'category': 'R', 'link': 'https://en.wikipedia.org/wiki/Holly_Rushmeier'}, {'scientist': 'Barbara Falkenbach Ryan', 'category': 'R', 'link': 'https://en.wikipedia.org/wiki/Barbara_Falkenbach_Ryan'}, {'scientist': 'Barbara G. Ryder', 'category': 'R', 'link': 'https://en.wikipedia.org/wiki/Barbara_G._Ryder'}, {'scientist': 'Reihaneh Safavi-Naini', 'category': 'S', 'link': 'https://en.wikipedia.org/wiki/Reihaneh_Safavi-Naini'}, {'scientist': 'Jean E. Sammet', 'category': 'S', 'link': 'https://en.wikipedia.org/wiki/Jean_E._Sammet'}, {'scientist': 'Lucy Sanders', 'category': 'S', 'link': 'https://en.wikipedia.org/wiki/Lucy_Sanders'}, {'scientist': 'Carla Savage', 'category': 'S', 'link': 'https://en.wikipedia.org/wiki/Carla_Savage'}, {'scientist': 'Jocelyn Scheirer', 'category': 'S', 'link': 'https://en.wikipedia.org/wiki/Jocelyn_Scheirer'}, {'scientist': 'Tamar Schlick', 'category': 'S', 'link': 'https://en.wikipedia.org/wiki/Tamar_Schlick'}, {'scientist': 'Karin Schnass', 'category': 'S', 'link': 'https://en.wikipedia.org/wiki/Karin_Schnass'}, {'scientist': 'Jean Scholtz', 'category': 'S', 'link': 'https://en.wikipedia.org/wiki/Jean_Scholtz'}, {'scientist': 'Margo Seltzer', 'category': 'S', 'link': 'https://en.wikipedia.org/wiki/Margo_Seltzer'}, {'scientist': 'Stephanie Seneff', 'category': 'S', 'link': 'https://en.wikipedia.org/wiki/Stephanie_Seneff'}, {'scientist': 'Kaisa Sere', 'category': 'S', 'link': 'https://en.wikipedia.org/wiki/Kaisa_Sere'}, {'scientist': 'Amber Settle', 'category': 'S', 'link': 'https://en.wikipedia.org/wiki/Amber_Settle'}, {'scientist': 'Fatimata Seye Sylla', 'category': 'S', 'link': 'https://en.wikipedia.org/wiki/Fatimata_Seye_Sylla'}, {'scientist': 'Cheryl L. Shavers', 'category': 'S', 'link': 'https://en.wikipedia.org/wiki/Cheryl_L._Shavers'}, {'scientist': 'Mary Shaw (computer scientist)', 'category': 'S', 'link': 'https://en.wikipedia.org/wiki/Mary_Shaw_(computer_scientist)'}, {'scientist': 'Sally Shlaer', 'category': 'S', 'link': 'https://en.wikipedia.org/wiki/Sally_Shlaer'}, {'scientist': 'Liuba Shrira', 'category': 'S', 'link': 'https://en.wikipedia.org/wiki/Liuba_Shrira'}, {'scientist': 'Rachel Sibande', 'category': 'S', 'link': 'https://en.wikipedia.org/wiki/Rachel_Sibande'}, {'scientist': 'Hava Siegelmann', 'category': 'S', 'link': 'https://en.wikipedia.org/wiki/Hava_Siegelmann'}, {'scientist': 'Ruth Silverman', 'category': 'S', 'link': 'https://en.wikipedia.org/wiki/Ruth_Silverman'}, {'scientist': 'Barbara Simons', 'category': 'S', 'link': 'https://en.wikipedia.org/wiki/Barbara_Simons'}, {'scientist': 'Kimmen Sjölander', 'category': 'S', 'link': 'https://en.wikipedia.org/wiki/Kimmen_Sj%C3%B6lander'}, {'scientist': 'Mary Lou Soffa', 'category': 'S', 'link': 'https://en.wikipedia.org/wiki/Mary_Lou_Soffa'}, {'scientist': 'Cynthia Solomon', 'category': 'S', 'link': 'https://en.wikipedia.org/wiki/Cynthia_Solomon'}, {'scientist': 'Diane Souvaine', 'category': 'S', 'link': 'https://en.wikipedia.org/wiki/Diane_Souvaine'}, {'scientist': 'Frances Spence', 'category': 'S', 'link': 'https://en.wikipedia.org/wiki/Frances_Spence'}, {'scientist': 'Ellen Spertus', 'category': 'S', 'link': 'https://en.wikipedia.org/wiki/Ellen_Spertus'}, {'scientist': 'Carol Spradling', 'category': 'S', 'link': 'https://en.wikipedia.org/wiki/Carol_Spradling'}, {'scientist': 'Katherine St. John', 'category': 'S', 'link': 'https://en.wikipedia.org/wiki/Katherine_St._John'}, {'scientist': 'Jessica Staddon', 'category': 'S', 'link': 'https://en.wikipedia.org/wiki/Jessica_Staddon'}, {'scientist': 'Kate Starbird', 'category': 'S', 'link': 'https://en.wikipedia.org/wiki/Kate_Starbird'}, {'scientist': 'Maureen C. Stone', 'category': 'S', 'link': 'https://en.wikipedia.org/wiki/Maureen_C._Stone'}, {'scientist': 'Ileana Streinu', 'category': 'S', 'link': 'https://en.wikipedia.org/wiki/Ileana_Streinu'}, {'scientist': 'Eleni Stroulia', 'category': 'S', 'link': 'https://en.wikipedia.org/wiki/Eleni_Stroulia'}, {'scientist': 'Sreelakshmi Suresh', 'category': 'S', 'link': 'https://en.wikipedia.org/wiki/Sreelakshmi_Suresh'}, {'scientist': 'Katia Sycara', 'category': 'S', 'link': 'https://en.wikipedia.org/wiki/Katia_Sycara'}, {'scientist': 'Carolyn Talcott', 'category': 'T', 'link': 'https://en.wikipedia.org/wiki/Carolyn_Talcott'}, {'scientist': 'Jaime Teevan', 'category': 'T', 'link': 'https://en.wikipedia.org/wiki/Jaime_Teevan'}, {'scientist': 'Ruth Teitelbaum', 'category': 'T', 'link': 'https://en.wikipedia.org/wiki/Ruth_Teitelbaum'}, {'scientist': 'Augusta H. Teller', 'category': 'T', 'link': 'https://en.wikipedia.org/wiki/Augusta_H._Teller'}, {'scientist': 'Kaya Thomas', 'category': 'T', 'link': 'https://en.wikipedia.org/wiki/Kaya_Thomas'}, {'scientist': 'Georgia Tourassi', 'category': 'T', 'link': 'https://en.wikipedia.org/wiki/Georgia_Tourassi'}, {'scientist': 'Gloria Townsend', 'category': 'T', 'link': 'https://en.wikipedia.org/wiki/Gloria_Townsend'}, {'scientist': 'Anna Tramontano', 'category': 'T', 'link': 'https://en.wikipedia.org/wiki/Anna_Tramontano'}, {'scientist': 'Marilyn Tremaine', 'category': 'T', 'link': 'https://en.wikipedia.org/wiki/Marilyn_Tremaine'}, {'scientist': 'Dana Ulery', 'category': 'U', 'link': 'https://en.wikipedia.org/wiki/Dana_Ulery'}, {'scientist': 'Sabine Van Huffel', 'category': 'V', 'link': 'https://en.wikipedia.org/wiki/Sabine_Van_Huffel'}, {'scientist': 'Paola Velardi', 'category': 'V', 'link': 'https://en.wikipedia.org/wiki/Paola_Velardi'}, {'scientist': 'Nalini Venkatasubramanian', 'category': 'V', 'link': 'https://en.wikipedia.org/wiki/Nalini_Venkatasubramanian'}, {'scientist': 'Mary K. Vernon', 'category': 'V', 'link': 'https://en.wikipedia.org/wiki/Mary_K._Vernon'}, {'scientist': 'Lea Verou', 'category': 'V', 'link': 'https://en.wikipedia.org/wiki/Lea_Verou'}, {'scientist': 'Ellen Voorhees', 'category': 'V', 'link': 'https://en.wikipedia.org/wiki/Ellen_Voorhees'}, {'scientist': 'Laura Waller', 'category': 'W', 'link': 'https://en.wikipedia.org/wiki/Laura_Waller'}, {'scientist': 'Yusu Wang', 'category': 'W', 'link': 'https://en.wikipedia.org/wiki/Yusu_Wang'}, {'scientist': 'Tandy Warnow', 'category': 'W', 'link': 'https://en.wikipedia.org/wiki/Tandy_Warnow'}, {'scientist': 'Stephanie Weirich', 'category': 'W', 'link': 'https://en.wikipedia.org/wiki/Stephanie_Weirich'}, {'scientist': 'Carola Wenk', 'category': 'W', 'link': 'https://en.wikipedia.org/wiki/Carola_Wenk'}, {'scientist': 'Elaine Weyuker', 'category': 'W', 'link': 'https://en.wikipedia.org/wiki/Elaine_Weyuker'}, {'scientist': 'Telle Whitney', 'category': 'W', 'link': 'https://en.wikipedia.org/wiki/Telle_Whitney'}, {'scientist': 'Jennifer Widom', 'category': 'W', 'link': 'https://en.wikipedia.org/wiki/Jennifer_Widom'}, {'scientist': 'Mary Allen Wilkes', 'category': 'W', 'link': 'https://en.wikipedia.org/wiki/Mary_Allen_Wilkes'}, {'scientist': 'Rebecca Willett', 'category': 'W', 'link': 'https://en.wikipedia.org/wiki/Rebecca_Willett'}, {'scientist': 'Gail Williams', 'category': 'W', 'link': 'https://en.wikipedia.org/wiki/Gail_Williams'}, {'scientist': 'Laurie Williams (software engineer)', 'category': 'W', 'link': 'https://en.wikipedia.org/wiki/Laurie_Williams_(software_engineer)'}, {'scientist': 'Virginia Vassilevska Williams', 'category': 'W', 'link': 'https://en.wikipedia.org/wiki/Virginia_Vassilevska_Williams'}, {'scientist': 'Edith Windsor', 'category': 'W', 'link': 'https://en.wikipedia.org/wiki/Edith_Windsor'}, {'scientist': 'Jeannette Wing', 'category': 'W', 'link': 'https://en.wikipedia.org/wiki/Jeannette_Wing'}, {'scientist': 'Marianne Winslett', 'category': 'W', 'link': 'https://en.wikipedia.org/wiki/Marianne_Winslett'}, {'scientist': 'Catherine G. Wolf', 'category': 'W', 'link': 'https://en.wikipedia.org/wiki/Catherine_G._Wolf'}, {'scientist': 'Margaret H. Wright', 'category': 'W', 'link': 'https://en.wikipedia.org/wiki/Margaret_H._Wright'}, {'scientist': 'Rebecca N. Wright', 'category': 'W', 'link': 'https://en.wikipedia.org/wiki/Rebecca_N._Wright'}, {'scientist': 'Angela Y. Wu', 'category': 'W', 'link': 'https://en.wikipedia.org/wiki/Angela_Y._Wu'}, {'scientist': 'Cathy H. Wu', 'category': 'W', 'link': 'https://en.wikipedia.org/wiki/Cathy_H._Wu'}, {'scientist': 'Dianna Xu', 'category': 'X', 'link': 'https://en.wikipedia.org/wiki/Dianna_Xu'}]\n"
     ]
    }
   ],
   "source": [
    "print(rows)"
   ]
  },
  {
   "cell_type": "code",
   "execution_count": null,
   "metadata": {},
   "outputs": [],
   "source": []
  },
  {
   "cell_type": "code",
   "execution_count": null,
   "metadata": {},
   "outputs": [],
   "source": []
  }
 ],
 "metadata": {
  "kernelspec": {
   "display_name": "Python 3",
   "language": "python",
   "name": "python3"
  },
  "language_info": {
   "codemirror_mode": {
    "name": "ipython",
    "version": 3
   },
   "file_extension": ".py",
   "mimetype": "text/x-python",
   "name": "python",
   "nbconvert_exporter": "python",
   "pygments_lexer": "ipython3",
   "version": "3.7.1"
  }
 },
 "nbformat": 4,
 "nbformat_minor": 2
}
