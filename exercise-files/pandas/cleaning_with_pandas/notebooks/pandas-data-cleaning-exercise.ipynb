{
 "cells": [
  {
   "cell_type": "markdown",
   "metadata": {},
   "source": [
    "### Cleaning data with pandas!\n",
    "\n",
    "What we will learn in this notebook:\n",
    "\n",
    "- How to drop empty rows and columns\n",
    "- How to drop rows with null values\n",
    "- How to replace null values\n",
    "- How to find and replace placeholder values\n",
    "- How to change column types\n",
    "- How to save a dataframe to a csv\n",
    "\n",
    "Links to documentation for the functions introduced:\n",
    "\n",
    "- [`.isna()`](https://pandas.pydata.org/pandas-docs/stable/reference/api/pandas.DataFrame.isna.html)\n",
    "- [`.dropna()`](https://pandas.pydata.org/pandas-docs/stable/reference/api/pandas.DataFrame.dropna.html?highlight=dropna)\n",
    "- [`.fillna()`](https://pandas.pydata.org/pandas-docs/stable/reference/api/pandas.DataFrame.fillna.html)\n",
    "- [`.astype()`](https://pandas.pydata.org/pandas-docs/stable/reference/api/pandas.DataFrame.replace.html)\n",
    "- [`.to_csv()`](https://pandas.pydata.org/pandas-docs/stable/reference/api/pandas.DataFrame.to_csv.html)\n",
    "\n",
    "First, let's import pandas and open `../data/simple_data.csv` as a dataframe. Then, let's look at the data!"
   ]
  },
  {
   "cell_type": "code",
   "execution_count": null,
   "metadata": {},
   "outputs": [],
   "source": []
  },
  {
   "cell_type": "code",
   "execution_count": 31,
   "metadata": {},
   "outputs": [],
   "source": []
  },
  {
   "cell_type": "code",
   "execution_count": null,
   "metadata": {
    "scrolled": true
   },
   "outputs": [],
   "source": []
  },
  {
   "cell_type": "markdown",
   "metadata": {},
   "source": [
    "#### Checking for null values\n",
    "\n",
    "Uh-oh. At first glance, this dataset looks pretty bad! We can check to see if there's missing data by using the `.is_na()` function. You can check it on the whole dataset, a single column, or a single row. \n",
    "\n",
    "Let's check if there's missing data in the whole dataset using the `.isna()` function."
   ]
  },
  {
   "cell_type": "code",
   "execution_count": null,
   "metadata": {},
   "outputs": [],
   "source": []
  },
  {
   "cell_type": "markdown",
   "metadata": {},
   "source": [
    "That helps us, kiiind of, but. Let's chain the `.sum()` function after the `.isna()` to get some aggregate counts."
   ]
  },
  {
   "cell_type": "code",
   "execution_count": null,
   "metadata": {},
   "outputs": [],
   "source": []
  },
  {
   "cell_type": "markdown",
   "metadata": {},
   "source": [
    "Let's check if there's missing data in row 2 using the `iloc[]` function we learned last week."
   ]
  },
  {
   "cell_type": "code",
   "execution_count": null,
   "metadata": {},
   "outputs": [],
   "source": []
  },
  {
   "cell_type": "markdown",
   "metadata": {},
   "source": [
    "This data is a mess! Let's clean it up."
   ]
  },
  {
   "cell_type": "markdown",
   "metadata": {},
   "source": [
    "#### Dropping empty columns\n",
    "\n",
    "There's a column, aptly titled `empty_column`, that has no values at all! We can drop it using the `.dropna()` function with `axis` and `how`."
   ]
  },
  {
   "cell_type": "code",
   "execution_count": null,
   "metadata": {},
   "outputs": [],
   "source": []
  },
  {
   "cell_type": "code",
   "execution_count": null,
   "metadata": {},
   "outputs": [],
   "source": []
  },
  {
   "cell_type": "markdown",
   "metadata": {},
   "source": [
    "#### Dropping empty rows\n",
    "\n",
    "It also looks like there's a row with no data at all! We can drop that using `.dropna()` too, but this time we can set our axis to `rows`."
   ]
  },
  {
   "cell_type": "code",
   "execution_count": null,
   "metadata": {},
   "outputs": [],
   "source": []
  },
  {
   "cell_type": "code",
   "execution_count": null,
   "metadata": {},
   "outputs": [],
   "source": []
  },
  {
   "cell_type": "markdown",
   "metadata": {},
   "source": [
    "#### Dropping rows with missing values\n",
    "\n",
    "Sometimes data can be incomplete. We can drop rows with incomplete data by using `.dropna()` in a slightly different way from above. \n",
    "\n",
    "Let's remove rows that have `NaN` or a null value, in the `missing_values` column."
   ]
  },
  {
   "cell_type": "code",
   "execution_count": null,
   "metadata": {},
   "outputs": [],
   "source": []
  },
  {
   "cell_type": "code",
   "execution_count": null,
   "metadata": {},
   "outputs": [],
   "source": []
  },
  {
   "cell_type": "markdown",
   "metadata": {},
   "source": [
    "#### Filling missing values\n",
    "\n",
    "Sometimes we don't want to drop rows just because they're missing values. Sometimes we feel like we can adequately replace NaNs with an actual value.\n",
    "\n",
    "Let's replace with the `NaN` values in the `missing_values_2` column with `.fillna()`!"
   ]
  },
  {
   "cell_type": "code",
   "execution_count": null,
   "metadata": {},
   "outputs": [],
   "source": []
  },
  {
   "cell_type": "code",
   "execution_count": null,
   "metadata": {},
   "outputs": [],
   "source": []
  },
  {
   "cell_type": "markdown",
   "metadata": {},
   "source": [
    "#### Dropping placeholder values by condition\n",
    "\n",
    "Sometimes people put things that shouldn't be in the data at all. In our case, the `NO_DATA` entries in `placeholder_values` are not only unecessary, but shouldn't be there at all! They're basically a `NaN` but worse--we can't drop rows with them using `.dropna()` like we were able to for our other columns.\n",
    "\n",
    "Instead, we can ask for a simple slice of the data using conditionals!"
   ]
  },
  {
   "cell_type": "code",
   "execution_count": null,
   "metadata": {},
   "outputs": [],
   "source": []
  },
  {
   "cell_type": "code",
   "execution_count": null,
   "metadata": {},
   "outputs": [],
   "source": []
  },
  {
   "cell_type": "markdown",
   "metadata": {},
   "source": [
    "#### Replacing placeholder values\n",
    "\n",
    "Other times we want to replace placeholder values. To do this, we can use the `.replace()` function."
   ]
  },
  {
   "cell_type": "code",
   "execution_count": 47,
   "metadata": {},
   "outputs": [],
   "source": []
  },
  {
   "cell_type": "code",
   "execution_count": null,
   "metadata": {},
   "outputs": [],
   "source": []
  },
  {
   "cell_type": "markdown",
   "metadata": {},
   "source": [
    "#### Fixing column types\n",
    "\n",
    "Our data's looking much better! There's one last thing we need to do to make sure that it's ready for analysis. Let's check the types of each column. You can do this by appending  `.dtypes` to your dataframe's variable name."
   ]
  },
  {
   "cell_type": "code",
   "execution_count": null,
   "metadata": {},
   "outputs": [],
   "source": []
  },
  {
   "cell_type": "markdown",
   "metadata": {},
   "source": [
    "Notice there are two different data types being used in this dataframe: `float64`, and `object`. Different types have different rules. These rules can help us create guardrails for ourselves. \n",
    "\n",
    "For instance, we probably want to be able to do math on all the numbers in the `placeholder_values` and `placeholder_values_2` columns. So let's fix that! Use the `.astype()` function to convert `placeholder_values` and `placeholder_values_2` from an `str` to a `float`."
   ]
  },
  {
   "cell_type": "code",
   "execution_count": null,
   "metadata": {},
   "outputs": [],
   "source": []
  },
  {
   "cell_type": "code",
   "execution_count": null,
   "metadata": {},
   "outputs": [],
   "source": []
  },
  {
   "cell_type": "markdown",
   "metadata": {},
   "source": [
    "Now check the types of each column again by using `.dtypes`. Notice a change?"
   ]
  },
  {
   "cell_type": "code",
   "execution_count": 52,
   "metadata": {
    "scrolled": true
   },
   "outputs": [
    {
     "data": {
      "text/plain": [
       "participant_id          float64\n",
       "missing_values          float64\n",
       "missing_values_2        float64\n",
       "placeholder_values      float64\n",
       "placeholder_values_2    float64\n",
       "dtype: object"
      ]
     },
     "execution_count": 52,
     "metadata": {},
     "output_type": "execute_result"
    }
   ],
   "source": []
  },
  {
   "cell_type": "markdown",
   "metadata": {},
   "source": [
    "One last thing! Right now, the column `participant_id` is a `float64`. We usually don't want or expect to do much on identification numbers, so let's convert that to a `str`."
   ]
  },
  {
   "cell_type": "code",
   "execution_count": null,
   "metadata": {},
   "outputs": [],
   "source": []
  },
  {
   "cell_type": "code",
   "execution_count": null,
   "metadata": {},
   "outputs": [],
   "source": []
  },
  {
   "cell_type": "code",
   "execution_count": null,
   "metadata": {},
   "outputs": [],
   "source": []
  },
  {
   "cell_type": "markdown",
   "metadata": {},
   "source": [
    "#### Saving the data\n",
    "\n",
    "Wow, we just went through a lot! Let's save this data so we don't have to go through this sort of trouble again! Just use the `.to_csv()` function."
   ]
  },
  {
   "cell_type": "code",
   "execution_count": null,
   "metadata": {},
   "outputs": [],
   "source": []
  }
 ],
 "metadata": {
  "kernelspec": {
   "display_name": "Python 3",
   "language": "python",
   "name": "python3"
  },
  "language_info": {
   "codemirror_mode": {
    "name": "ipython",
    "version": 3
   },
   "file_extension": ".py",
   "mimetype": "text/x-python",
   "name": "python",
   "nbconvert_exporter": "python",
   "pygments_lexer": "ipython3",
   "version": "3.7.3"
  }
 },
 "nbformat": 4,
 "nbformat_minor": 2
}
