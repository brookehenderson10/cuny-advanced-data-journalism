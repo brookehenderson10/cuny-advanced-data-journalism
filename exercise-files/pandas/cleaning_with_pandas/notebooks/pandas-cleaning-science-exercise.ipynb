{
 "cells": [
  {
   "cell_type": "markdown",
   "metadata": {},
   "source": [
    "## Cleaning with pandas - askscience_submissions edition\n",
    "\n",
    "First, let's import pandas and open `../data/askscience_submissions.csv` we previously downloaded for homework as a dataframe. Then, let's look at the data!"
   ]
  },
  {
   "cell_type": "code",
   "execution_count": 4,
   "metadata": {},
   "outputs": [],
   "source": []
  },
  {
   "cell_type": "code",
   "execution_count": null,
   "metadata": {},
   "outputs": [],
   "source": []
  },
  {
   "cell_type": "code",
   "execution_count": null,
   "metadata": {},
   "outputs": [],
   "source": []
  },
  {
   "cell_type": "code",
   "execution_count": null,
   "metadata": {},
   "outputs": [],
   "source": []
  },
  {
   "cell_type": "markdown",
   "metadata": {},
   "source": [
    "#### Drop rows with missing values\n",
    "\n",
    "Sometimes data can be incomplete. We can drop rows with incomplete data by using `.dropna()` and specifying what `subset` of columns we want to scrutinize for missing data. \n",
    "\n",
    "Let's remove rows that have `NaN` or a null value, in the `title` and `ups` column."
   ]
  },
  {
   "cell_type": "code",
   "execution_count": null,
   "metadata": {},
   "outputs": [],
   "source": []
  },
  {
   "cell_type": "code",
   "execution_count": null,
   "metadata": {
    "scrolled": true
   },
   "outputs": [],
   "source": []
  },
  {
   "cell_type": "markdown",
   "metadata": {},
   "source": [
    "Compare the lengths of the original dataframe and the dataframe without the missing title and ups values using `len()`"
   ]
  },
  {
   "cell_type": "code",
   "execution_count": null,
   "metadata": {},
   "outputs": [],
   "source": [
    "print(len(science_data))\n",
    "print(len(science_no_na_title))"
   ]
  },
  {
   "cell_type": "markdown",
   "metadata": {},
   "source": [
    "#### Dropping rows based on conditions\n",
    "\n",
    "Get all of the rows whose `ups` is greater than 99."
   ]
  },
  {
   "cell_type": "code",
   "execution_count": null,
   "metadata": {},
   "outputs": [],
   "source": []
  },
  {
   "cell_type": "markdown",
   "metadata": {},
   "source": [
    "#### Making new columns\n",
    "\n",
    "Sometimes we need to filter data based on more complicated conditions. We can do that by making a new column where each row is either `True` or `False`, based on criteria that we make up.\n",
    "\n",
    "Let's do this by making a column called `contains_climate_change` that is `True` or `False` based on whether the phrase \"climate change\" is in the title."
   ]
  },
  {
   "cell_type": "code",
   "execution_count": null,
   "metadata": {},
   "outputs": [],
   "source": []
  },
  {
   "cell_type": "markdown",
   "metadata": {},
   "source": [
    "Now let's make a variable that only has the rows where `contains_climate_change` is `True`"
   ]
  },
  {
   "cell_type": "code",
   "execution_count": null,
   "metadata": {},
   "outputs": [],
   "source": []
  },
  {
   "cell_type": "code",
   "execution_count": null,
   "metadata": {},
   "outputs": [],
   "source": []
  },
  {
   "cell_type": "markdown",
   "metadata": {},
   "source": [
    "Gutcheck: Is the length of this filtered data 2221? If so, you've done it correctly!"
   ]
  },
  {
   "cell_type": "markdown",
   "metadata": {},
   "source": [
    "#### Paring down columns\n",
    "\n",
    "For our variable that only has rows that contain the phrase \"climate change\" in the title, select only the columns `author`, `title`, `ups`, and `downs`, and then use the `sort_values()` function we touched upon last week to get the name of the author with the highest upvotes (\"`ups`\")."
   ]
  },
  {
   "cell_type": "code",
   "execution_count": null,
   "metadata": {},
   "outputs": [],
   "source": []
  },
  {
   "cell_type": "code",
   "execution_count": null,
   "metadata": {},
   "outputs": [],
   "source": []
  },
  {
   "cell_type": "markdown",
   "metadata": {},
   "source": [
    "#### Saving data\n",
    "\n",
    "Let's save that using the `.to_csv()` function!"
   ]
  },
  {
   "cell_type": "code",
   "execution_count": null,
   "metadata": {},
   "outputs": [],
   "source": []
  }
 ],
 "metadata": {
  "kernelspec": {
   "display_name": "Python 3",
   "language": "python",
   "name": "python3"
  }
 },
 "nbformat": 4,
 "nbformat_minor": 2
}
